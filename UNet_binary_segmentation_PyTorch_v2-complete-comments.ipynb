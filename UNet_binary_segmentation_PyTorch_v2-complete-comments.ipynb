{
  "nbformat": 4,
  "nbformat_minor": 0,
  "metadata": {
    "colab": {
      "provenance": [],
      "authorship_tag": "ABX9TyMSdovx/7361gog9ultaesE",
      "include_colab_link": true
    },
    "kernelspec": {
      "name": "python3",
      "display_name": "Python 3"
    },
    "language_info": {
      "name": "python"
    },
    "accelerator": "TPU",
    "gpuClass": "premium"
  },
  "cells": [
    {
      "cell_type": "markdown",
      "metadata": {
        "id": "view-in-github",
        "colab_type": "text"
      },
      "source": [
        "<a href=\"https://colab.research.google.com/github/s1m0nS/projectRegularization/blob/main/UNet_binary_segmentation_PyTorch_v2-complete-comments.ipynb\" target=\"_parent\"><img src=\"https://colab.research.google.com/assets/colab-badge.svg\" alt=\"Open In Colab\"/></a>"
      ]
    },
    {
      "cell_type": "markdown",
      "source": [
        "## Binary semantic segmentation example using U-Net\n",
        "Preparation of dataset and model training code from here:\n",
        "\n",
        "https://pyimagesearch.com/2021/11/08/u-net-training-image-segmentation-models-in-pytorch/"
      ],
      "metadata": {
        "id": "1KJnP7zSGQg5"
      }
    },
    {
      "cell_type": "code",
      "source": [
        "import os\n",
        "import torch\n",
        "import torchvision\n",
        "from tqdm import tqdm\n",
        "\n",
        "print(torch.__version__)\n",
        "print(torchvision.__version__)\n",
        "\n",
        "DEVICE = \"cuda\" if torch.cuda.is_available() else \"cpu\"\n",
        "print(DEVICE)\n",
        "\n",
        "# determine if we will be pinning memory during data loading\n",
        "PIN_MEMORY = True if DEVICE == \"cuda\" else False"
      ],
      "metadata": {
        "colab": {
          "base_uri": "https://localhost:8080/"
        },
        "id": "cFxHJWmXlcZk",
        "outputId": "b755d1a8-3650-42d9-8718-401b4458f049"
      },
      "execution_count": null,
      "outputs": [
        {
          "output_type": "stream",
          "name": "stdout",
          "text": [
            "1.13.1+cu116\n",
            "0.14.1+cu116\n",
            "cuda\n"
          ]
        }
      ]
    },
    {
      "cell_type": "markdown",
      "source": [
        "See GPU information:\n",
        "\n",
        "In order to use a GPU with your notebook, select the Runtime > Change runtime type menu, and then set the hardware accelerator dropdown to GPU.\n"
      ],
      "metadata": {
        "id": "hmGp7IyA91K0"
      }
    },
    {
      "cell_type": "code",
      "source": [
        "gpu_info = !nvidia-smi\n",
        "gpu_info = '\\n'.join(gpu_info)\n",
        "if gpu_info.find('failed') >= 0:\n",
        "  print('Not connected to a GPU')\n",
        "else:\n",
        "  print(gpu_info)"
      ],
      "metadata": {
        "colab": {
          "base_uri": "https://localhost:8080/"
        },
        "id": "sImxr0u_-G2d",
        "outputId": "98fc510b-9063-4231-e043-f23179a62bf5"
      },
      "execution_count": null,
      "outputs": [
        {
          "output_type": "stream",
          "name": "stdout",
          "text": [
            "Fri Mar 10 11:59:31 2023       \n",
            "+-----------------------------------------------------------------------------+\n",
            "| NVIDIA-SMI 525.85.12    Driver Version: 525.85.12    CUDA Version: 12.0     |\n",
            "|-------------------------------+----------------------+----------------------+\n",
            "| GPU  Name        Persistence-M| Bus-Id        Disp.A | Volatile Uncorr. ECC |\n",
            "| Fan  Temp  Perf  Pwr:Usage/Cap|         Memory-Usage | GPU-Util  Compute M. |\n",
            "|                               |                      |               MIG M. |\n",
            "|===============================+======================+======================|\n",
            "|   0  NVIDIA A100-SXM...  Off  | 00000000:00:04.0 Off |                    0 |\n",
            "| N/A   32C    P0    49W / 400W |      3MiB / 40960MiB |      0%      Default |\n",
            "|                               |                      |             Disabled |\n",
            "+-------------------------------+----------------------+----------------------+\n",
            "                                                                               \n",
            "+-----------------------------------------------------------------------------+\n",
            "| Processes:                                                                  |\n",
            "|  GPU   GI   CI        PID   Type   Process name                  GPU Memory |\n",
            "|        ID   ID                                                   Usage      |\n",
            "|=============================================================================|\n",
            "|  No running processes found                                                 |\n",
            "+-----------------------------------------------------------------------------+\n"
          ]
        }
      ]
    },
    {
      "cell_type": "markdown",
      "source": [
        "## More memory\n",
        "\n",
        "Users who have purchased one of Colab's paid plans have access to high-memory VMs when they are available.\n",
        "\n",
        "\n",
        "\n",
        "You can see how much memory you have available at any time by running the following code cell. If the execution result of running the code cell below is \"Not using a high-RAM runtime\", then you can enable a high-RAM runtime via `Runtime > Change runtime type` in the menu. Then select High-RAM in the Runtime shape dropdown. After, re-execute the code cell."
      ],
      "metadata": {
        "id": "Gvx4-0GH98IE"
      }
    },
    {
      "cell_type": "code",
      "source": [
        "from psutil import virtual_memory\n",
        "ram_gb = virtual_memory().total / 1e9\n",
        "print('Your runtime has {:.1f} gigabytes of available RAM\\n'.format(ram_gb))\n",
        "\n",
        "if ram_gb < 20:\n",
        "  print('Not using a high-RAM runtime')\n",
        "else:\n",
        "  print('You are using a high-RAM runtime!')"
      ],
      "metadata": {
        "id": "YAjhXUqp90oA",
        "colab": {
          "base_uri": "https://localhost:8080/"
        },
        "outputId": "44516699-ccf0-46bb-cf16-53b740d1e487"
      },
      "execution_count": null,
      "outputs": [
        {
          "output_type": "stream",
          "name": "stdout",
          "text": [
            "Your runtime has 89.6 gigabytes of available RAM\n",
            "\n",
            "You are using a high-RAM runtime!\n"
          ]
        }
      ]
    },
    {
      "cell_type": "markdown",
      "source": [
        "### Mount Google Drive"
      ],
      "metadata": {
        "id": "n1HrhjCjVJkX"
      }
    },
    {
      "cell_type": "markdown",
      "source": [
        "For this implementation files have to be stored on your Google Drive. If you are working locally, have the dataset on your pc. I did not use the whole MapAI dataset for training, because I only have 15 GB on my Google Drive."
      ],
      "metadata": {
        "id": "y_f6f6baGg5G"
      }
    },
    {
      "cell_type": "code",
      "source": [
        "# Mount Google Drive if you use it.\n",
        "\n",
        "from google.colab import drive\n",
        "drive.mount('/content/drive/')\n",
        "\n",
        "# Unzip dataset --> run only in Colab\n",
        "import zipfile\n",
        "\n",
        "mapai_zip = '/content/drive/MyDrive/datasets/mapai_small.zip'\n",
        "zip_ref = zipfile.ZipFile(mapai_zip, 'r')\n",
        "zip_ref.extractall(\"/tmp\") # extracting dataset to tmp folder\n",
        "zip_ref.close()"
      ],
      "metadata": {
        "colab": {
          "base_uri": "https://localhost:8080/"
        },
        "id": "FKeaR6YkVId4",
        "outputId": "2e6d3763-ef36-4403-c324-aa30fcc6be46"
      },
      "execution_count": null,
      "outputs": [
        {
          "output_type": "stream",
          "name": "stdout",
          "text": [
            "Mounted at /content/drive/\n"
          ]
        }
      ]
    },
    {
      "cell_type": "markdown",
      "source": [
        "#### CONFIGURE YOUR PATHS AND HYPERPARAMETERS FOR TRAINING BELOW."
      ],
      "metadata": {
        "id": "KVfaGZrWG63Q"
      }
    },
    {
      "cell_type": "code",
      "source": [
        "# CONFIGURE PATHS\n",
        "\n",
        "GD_PATH = \"/content/drive/MyDrive/models/\"\n",
        "\n",
        "# TRAIN\n",
        "TRAIN_IMG_DIR = \"/tmp/mapai_small/train/images/\"\n",
        "TRAIN_MASK_DIR = \"/tmp/mapai_small/train/masks/\"\n",
        "\n",
        "# VAL\n",
        "VAL_IMG_DIR = \"/tmp/mapai_small/val/images/\"\n",
        "VAL_MASK_DIR = \"/tmp/mapai_small/val/masks/\"\n",
        "\n",
        "# TEST\n",
        "TEST_IMG_DIR = \"/tmp/mapai_small/test/images/\"\n",
        "TEST_MASK_DIR = \"/tmp/mapai_small/test/masks/\"\n",
        "\n",
        "\n",
        "# CONFIGURE MapAI DATASET\n",
        "NUM_CHANNELS = 3\n",
        "NUM_LEVELS  = 3\n",
        "NUM_CLASSES = 1\n",
        "\n",
        "init_lr = 1e-3 # learning rate\n",
        "EPOCHS = 100 # epochs to train\n",
        "BATCH_SIZE = 8\n",
        "\n",
        "# IMAGE SHAPE\n",
        "IMG_WIDTH = 500\n",
        "IMG_HEIGHT = 500\n",
        "\n",
        "THRESHOLD  = 0.5\n",
        "base_output = \"out\"\n",
        "\n",
        "# OUTPUT PATHS\n",
        "MODEL_PATH = os.path.join(GD_PATH, \"unet-100-epochs.pth\") # change depending on the number of epochs\n",
        "print(MODEL_PATH)\n",
        "PLOT_PATH  = os.path.join(GD_PATH, \"training_plot.png\") # plot for training/val loss\n",
        "print(PLOT_PATH)\n",
        "TEST_PATHS = os.path.join(GD_PATH, \"test_paths.txt\") # file to store the paths for test images\n",
        "print(TEST_PATHS)"
      ],
      "metadata": {
        "colab": {
          "base_uri": "https://localhost:8080/",
          "height": 235
        },
        "id": "OjlBC-raVM2K",
        "outputId": "b6950142-9c43-40bd-9edb-e10b3973f745"
      },
      "execution_count": 2,
      "outputs": [
        {
          "output_type": "error",
          "ename": "NameError",
          "evalue": "ignored",
          "traceback": [
            "\u001b[0;31m---------------------------------------------------------------------------\u001b[0m",
            "\u001b[0;31mNameError\u001b[0m                                 Traceback (most recent call last)",
            "\u001b[0;32m<ipython-input-2-60b68dbfbfa6>\u001b[0m in \u001b[0;36m<module>\u001b[0;34m\u001b[0m\n\u001b[1;32m     33\u001b[0m \u001b[0;34m\u001b[0m\u001b[0m\n\u001b[1;32m     34\u001b[0m \u001b[0;31m# OUTPUT PATHS\u001b[0m\u001b[0;34m\u001b[0m\u001b[0;34m\u001b[0m\u001b[0m\n\u001b[0;32m---> 35\u001b[0;31m \u001b[0mMODEL_PATH\u001b[0m \u001b[0;34m=\u001b[0m \u001b[0mos\u001b[0m\u001b[0;34m.\u001b[0m\u001b[0mpath\u001b[0m\u001b[0;34m.\u001b[0m\u001b[0mjoin\u001b[0m\u001b[0;34m(\u001b[0m\u001b[0mGD_PATH\u001b[0m\u001b[0;34m,\u001b[0m \u001b[0;34m\"unet-100-epochs.pth\"\u001b[0m\u001b[0;34m)\u001b[0m \u001b[0;31m# change depending on the number of epochs\u001b[0m\u001b[0;34m\u001b[0m\u001b[0;34m\u001b[0m\u001b[0m\n\u001b[0m\u001b[1;32m     36\u001b[0m \u001b[0mprint\u001b[0m\u001b[0;34m(\u001b[0m\u001b[0mMODEL_PATH\u001b[0m\u001b[0;34m)\u001b[0m\u001b[0;34m\u001b[0m\u001b[0;34m\u001b[0m\u001b[0m\n\u001b[1;32m     37\u001b[0m \u001b[0mPLOT_PATH\u001b[0m  \u001b[0;34m=\u001b[0m \u001b[0mos\u001b[0m\u001b[0;34m.\u001b[0m\u001b[0mpath\u001b[0m\u001b[0;34m.\u001b[0m\u001b[0mjoin\u001b[0m\u001b[0;34m(\u001b[0m\u001b[0mGD_PATH\u001b[0m\u001b[0;34m,\u001b[0m \u001b[0;34m\"training_plot.png\"\u001b[0m\u001b[0;34m)\u001b[0m \u001b[0;31m# plot for training/val loss\u001b[0m\u001b[0;34m\u001b[0m\u001b[0;34m\u001b[0m\u001b[0m\n",
            "\u001b[0;31mNameError\u001b[0m: name 'os' is not defined"
          ]
        }
      ]
    },
    {
      "cell_type": "markdown",
      "source": [
        "### Load and read the MapAI dataset"
      ],
      "metadata": {
        "id": "IfSMUZbWWdJn"
      }
    },
    {
      "cell_type": "code",
      "source": [
        "from torch.utils.data import Dataset\n",
        "import cv2\n",
        "\n",
        "class mapAIdataset(Dataset):\n",
        "\tdef __init__(self, imagePaths, maskPaths, transforms):\n",
        "\t\t# store the image and mask filepaths, and augmentation\n",
        "\t\t# transforms\n",
        "\t\tself.imagePaths = imagePaths\n",
        "\t\tself.maskPaths = maskPaths\n",
        "\t\tself.transforms = transforms\n",
        "\t\t\n",
        "\tdef __len__(self):\n",
        "\t\t# return the number of total samples contained in the dataset\n",
        "\t\treturn len(self.imagePaths)\n",
        "\t\n",
        "\tdef __getitem__(self, idx):\n",
        "\t\t# grab the image path from the current index\n",
        "\t\timagePath = self.imagePaths[idx]\n",
        "\t\t# load the image from disk, swap its channels from BGR to RGB,\n",
        "\t\t# and read the associated mask from disk in grayscale mode\n",
        "\t\timage = cv2.imread(imagePath)\n",
        "\t\timage = cv2.cvtColor(image, cv2.COLOR_BGR2RGB)\n",
        "\t\tmask = cv2.imread(self.maskPaths[idx], 0)\n",
        "\t\t# check to see if we are applying any transformations\n",
        "\t\tif self.transforms is not None:\n",
        "\t\t\t# apply the transformations to both image and its mask\n",
        "\t\t\timage = self.transforms(image)\n",
        "\t\t\tmask = self.transforms(mask)\n",
        "\t\n",
        "\t\t# return a tuple of the image and its mask\n",
        "\t\treturn (image, mask)"
      ],
      "metadata": {
        "id": "TPiACQ_6VyQP"
      },
      "execution_count": null,
      "outputs": []
    },
    {
      "cell_type": "markdown",
      "source": [
        "### Build UNET architecture\n",
        "I used the basic UNET architecture, I did not want to mess much with changing the neural network, rather focus more on applying regularization, because that is more important for my use case for cadastral mapping.\n",
        "\n",
        "When comparing different models, we can just add a different model architecture below."
      ],
      "metadata": {
        "id": "AKXL9bO8WnNg"
      }
    },
    {
      "cell_type": "code",
      "source": [
        "import torch\n",
        "import torch.nn as nn\n",
        "import torchvision.transforms.functional as TF\n",
        "\n",
        "class DoubleConv(nn.Module):\n",
        "    def __init__(self, in_channels, out_channels):\n",
        "        super(DoubleConv, self).__init__()\n",
        "        self.conv = nn.Sequential(\n",
        "            nn.Conv2d(in_channels, out_channels, 3, 1, 1, bias=False),\n",
        "            nn.BatchNorm2d(out_channels),\n",
        "            nn.ReLU(inplace=True),\n",
        "            nn.Conv2d(out_channels, out_channels, 3, 1, 1, bias=False),\n",
        "            nn.BatchNorm2d(out_channels),\n",
        "            nn.ReLU(inplace=True),\n",
        "        )\n",
        "\n",
        "    def forward(self, x):\n",
        "        return self.conv(x)\n",
        "\n",
        "class UNET(nn.Module):\n",
        "    def __init__(\n",
        "            self, in_channels=3, out_channels=1, features=[64, 128, 256, 512],\n",
        "    ):\n",
        "        super(UNET, self).__init__()\n",
        "        self.ups = nn.ModuleList()\n",
        "        self.downs = nn.ModuleList()\n",
        "        self.pool = nn.MaxPool2d(kernel_size=2, stride=2)\n",
        "\n",
        "        # DOWN part of UNET\n",
        "        for feature in features:\n",
        "            self.downs.append(DoubleConv(in_channels, feature))\n",
        "            in_channels = feature\n",
        "\n",
        "        # UP part of UNET\n",
        "        for feature in reversed(features):\n",
        "            self.ups.append(\n",
        "                nn.ConvTranspose2d(\n",
        "                    feature*2, feature, kernel_size=2, stride=2,\n",
        "                )\n",
        "            )\n",
        "            self.ups.append(DoubleConv(feature*2, feature))\n",
        "\n",
        "        self.bottleneck = DoubleConv(features[-1], features[-1]*2)\n",
        "        self.final_conv = nn.Conv2d(features[0], out_channels, kernel_size=1)\n",
        "\n",
        "    def forward(self, x):\n",
        "        skip_connections = []\n",
        "\n",
        "        for down in self.downs:\n",
        "            x = down(x)\n",
        "            skip_connections.append(x)\n",
        "            x = self.pool(x)\n",
        "\n",
        "        x = self.bottleneck(x)\n",
        "        skip_connections = skip_connections[::-1]\n",
        "\n",
        "        for idx in range(0, len(self.ups), 2):\n",
        "            x = self.ups[idx](x)\n",
        "            skip_connection = skip_connections[idx//2]\n",
        "\n",
        "            if x.shape != skip_connection.shape:\n",
        "                x = TF.resize(x, size=skip_connection.shape[2:])\n",
        "\n",
        "            concat_skip = torch.cat((skip_connection, x), dim=1)\n",
        "            x = self.ups[idx+1](concat_skip)\n",
        "\n",
        "        return self.final_conv(x)"
      ],
      "metadata": {
        "id": "9urE3W1iWp7v"
      },
      "execution_count": null,
      "outputs": []
    },
    {
      "cell_type": "markdown",
      "source": [
        "### Training the segmentation model\n",
        "Below we append the paths for TRAIN/VAL/TEST sets - images/masks."
      ],
      "metadata": {
        "id": "22hbANvfWxmX"
      }
    },
    {
      "cell_type": "code",
      "source": [
        "from torch.nn import BCEWithLogitsLoss\n",
        "from torch.optim import Adam\n",
        "from torch.utils.data import DataLoader\n",
        "import matplotlib.pyplot as plt\n",
        "from imutils import paths\n",
        "import time\n",
        "\n",
        "# TRAINING\n",
        "TrainImagePaths = sorted(list(paths.list_images(TRAIN_IMG_DIR)))\n",
        "TrainMaskPaths = sorted(list(paths.list_images(TRAIN_MASK_DIR)))\n",
        "\n",
        "print('TRAINING: ')\n",
        "print(TrainImagePaths[0], TrainMaskPaths[0])\n",
        "\n",
        "# VALIDATION\n",
        "ValImagePaths = sorted(list(paths.list_images(VAL_IMG_DIR)))\n",
        "ValMaskPaths = sorted(list(paths.list_images(VAL_MASK_DIR)))\n",
        "\n",
        "print('VALIDATION:')\n",
        "print(ValImagePaths[0], ValMaskPaths[0])\n",
        "\n",
        "# TEST\n",
        "TestImagePaths = sorted(list(paths.list_images(TEST_IMG_DIR)))\n",
        "TestMaskPaths = sorted(list(paths.list_images(TEST_MASK_DIR))) # this does not exists\n",
        "\n",
        "print('TEST:')\n",
        "print(TestImagePaths[0], TestMaskPaths[0])\n",
        "\n",
        "# Unpack the data\n",
        "(train_images, train_masks) = (TrainImagePaths, TrainMaskPaths)\n",
        "\n",
        "(val_images, val_masks) = (ValImagePaths, ValMaskPaths)\n",
        "\n",
        "(test_images, test_masks) = (TestImagePaths, TestMaskPaths)\n",
        "\n",
        "# Write the testing images to disk so that we can use them later\n",
        "print(\"[INFO] saving testing image paths...\")\n",
        "f = open(TEST_PATHS, \"w\")\n",
        "f.write(\"\\n\".join(test_images))\n",
        "f.close()"
      ],
      "metadata": {
        "colab": {
          "base_uri": "https://localhost:8080/"
        },
        "id": "G2Jha-LCW0ir",
        "outputId": "fcad4c67-0851-42e6-ea68-6b6dd88d26c2"
      },
      "execution_count": null,
      "outputs": [
        {
          "output_type": "stream",
          "name": "stdout",
          "text": [
            "TRAINING: \n",
            "/tmp/mapai_small/train/images/6051_689_0.png /tmp/mapai_small/train/masks/6051_689_0.png\n",
            "VALIDATION:\n",
            "/tmp/mapai_small/val/images/6259_564_19.png /tmp/mapai_small/val/masks/6259_564_19.png\n",
            "TEST:\n",
            "/tmp/mapai_small/test/images/6078_637_91.png /tmp/mapai_small/test/masks/6078_637_91.png\n",
            "[INFO] saving testing image paths...\n"
          ]
        }
      ]
    },
    {
      "cell_type": "markdown",
      "source": [
        "Just check if everything is correct."
      ],
      "metadata": {
        "id": "TOJsxnGFI0vf"
      }
    },
    {
      "cell_type": "code",
      "source": [
        "train_images[0:2], train_masks[0:2]"
      ],
      "metadata": {
        "colab": {
          "base_uri": "https://localhost:8080/"
        },
        "id": "yyf-4h483fPG",
        "outputId": "c2e3b040-c6f2-40b5-fa0d-bb498511ca8c"
      },
      "execution_count": null,
      "outputs": [
        {
          "output_type": "execute_result",
          "data": {
            "text/plain": [
              "(['/tmp/mapai_small/train/images/6051_689_0.png',\n",
              "  '/tmp/mapai_small/train/images/6051_689_38.png',\n",
              "  '/tmp/mapai_small/train/images/6051_689_4.png',\n",
              "  '/tmp/mapai_small/train/images/6051_689_42.png',\n",
              "  '/tmp/mapai_small/train/images/6051_689_44.png'],\n",
              " ['/tmp/mapai_small/train/masks/6051_689_0.png',\n",
              "  '/tmp/mapai_small/train/masks/6051_689_38.png',\n",
              "  '/tmp/mapai_small/train/masks/6051_689_4.png',\n",
              "  '/tmp/mapai_small/train/masks/6051_689_42.png',\n",
              "  '/tmp/mapai_small/train/masks/6051_689_44.png'])"
            ]
          },
          "metadata": {},
          "execution_count": 11
        }
      ]
    },
    {
      "cell_type": "code",
      "source": [
        "val_images[0:2], val_masks[0:2]"
      ],
      "metadata": {
        "colab": {
          "base_uri": "https://localhost:8080/"
        },
        "id": "6nbLAtF-3o3Y",
        "outputId": "bc0504ee-508e-441e-c74c-fc4ae8f6d053"
      },
      "execution_count": null,
      "outputs": [
        {
          "output_type": "execute_result",
          "data": {
            "text/plain": [
              "(['/tmp/mapai_small/val/images/6259_564_19.png',\n",
              "  '/tmp/mapai_small/val/images/6259_564_2.png',\n",
              "  '/tmp/mapai_small/val/images/6259_564_24.png',\n",
              "  '/tmp/mapai_small/val/images/6259_564_31.png',\n",
              "  '/tmp/mapai_small/val/images/6259_564_34.png'],\n",
              " ['/tmp/mapai_small/val/masks/6259_564_19.png',\n",
              "  '/tmp/mapai_small/val/masks/6259_564_2.png',\n",
              "  '/tmp/mapai_small/val/masks/6259_564_24.png',\n",
              "  '/tmp/mapai_small/val/masks/6259_564_31.png',\n",
              "  '/tmp/mapai_small/val/masks/6259_564_34.png'])"
            ]
          },
          "metadata": {},
          "execution_count": 12
        }
      ]
    },
    {
      "cell_type": "code",
      "source": [
        "test_images[0:2], test_masks[0:2]"
      ],
      "metadata": {
        "colab": {
          "base_uri": "https://localhost:8080/"
        },
        "id": "cXyoIVHM3sKH",
        "outputId": "b301cb52-d2e4-4fd3-ee06-da33b8650147"
      },
      "execution_count": null,
      "outputs": [
        {
          "output_type": "execute_result",
          "data": {
            "text/plain": [
              "(['/tmp/mapai_small/test/images/6078_637_91.png',\n",
              "  '/tmp/mapai_small/test/images/6078_638_24.png',\n",
              "  '/tmp/mapai_small/test/images/6078_638_99.png',\n",
              "  '/tmp/mapai_small/test/images/6084_553_93.png',\n",
              "  '/tmp/mapai_small/test/images/6104_603_16.png'],\n",
              " ['/tmp/mapai_small/test/masks/6078_637_91.png',\n",
              "  '/tmp/mapai_small/test/masks/6078_638_24.png',\n",
              "  '/tmp/mapai_small/test/masks/6078_638_99.png',\n",
              "  '/tmp/mapai_small/test/masks/6084_553_93.png',\n",
              "  '/tmp/mapai_small/test/masks/6104_603_16.png'])"
            ]
          },
          "metadata": {},
          "execution_count": 13
        }
      ]
    },
    {
      "cell_type": "markdown",
      "source": [
        "### Define transformations\n",
        "\n",
        "I tried out different data augmentation techniques, including Horizontal Flip, Vertical Flip, Contrast, Brightness. They did not improve my results much, the validation and training loss were actually worse than without data augmentation techniques."
      ],
      "metadata": {
        "id": "gtqUNGR1XCa5"
      }
    },
    {
      "cell_type": "markdown",
      "source": [
        "https://pytorch.org/vision/stable/auto_examples/plot_transforms.html#sphx-glr-auto-examples-plot-transforms-py\n"
      ],
      "metadata": {
        "id": "ghW7Nj0OEQMc"
      }
    },
    {
      "cell_type": "code",
      "source": [
        "# define transformations\n",
        "import torchvision.transforms as T\n",
        "\n",
        "transforms = T.Compose([T.ToPILImage(),\n",
        "                        T.Resize((IMG_HEIGHT,IMG_WIDTH)),\n",
        "                        T.ToTensor()])\n",
        "\n",
        "# create the train and test datasets\n",
        "trainDS = mapAIdataset(imagePaths=train_images,\n",
        "                       maskPaths=train_masks,\n",
        "                       transforms=transforms)\n",
        "\n",
        "valDS = mapAIdataset(imagePaths=val_images,\n",
        "                     maskPaths=val_masks,\n",
        "                     transforms=transforms)\n",
        "\n",
        "testDS = mapAIdataset(imagePaths=test_images,\n",
        "                      maskPaths=test_masks,\n",
        "                      transforms=transforms)\n",
        "\n",
        "print(f\"[INFO] found {len(trainDS)} examples in the training set...\")\n",
        "print(f\"[INFO] found {len(valDS)} examples in the validation set...\")\n",
        "print(f\"[INFO] found {len(testDS)} examples in the test set...\")\n",
        "\n",
        "# create the training and test data loaders\n",
        "trainLoader = DataLoader(trainDS,\n",
        "                         shuffle=True,\n",
        "                         batch_size=BATCH_SIZE,\n",
        "                         pin_memory=PIN_MEMORY,\n",
        "                         num_workers=os.cpu_count()\n",
        "                         )\n",
        "\n",
        "valLoader = DataLoader(valDS,\n",
        "                       shuffle=False,\n",
        "                       batch_size=BATCH_SIZE,\n",
        "                       pin_memory=PIN_MEMORY,\n",
        "                       num_workers=os.cpu_count()\n",
        "                       )\n",
        "\n",
        "testLoader = DataLoader(testDS,\n",
        "                        shuffle=False,\n",
        "                        batch_size=BATCH_SIZE,\n",
        "                        pin_memory=PIN_MEMORY,\n",
        "                        num_workers=os.cpu_count()\n",
        "                        )"
      ],
      "metadata": {
        "colab": {
          "base_uri": "https://localhost:8080/"
        },
        "id": "WR_dzdpCXCHY",
        "outputId": "4e9b1681-2846-489f-edf6-a6240af65563"
      },
      "execution_count": null,
      "outputs": [
        {
          "output_type": "stream",
          "name": "stdout",
          "text": [
            "[INFO] found 800 examples in the training set...\n",
            "[INFO] found 200 examples in the validation set...\n",
            "[INFO] found 25 examples in the test set...\n"
          ]
        }
      ]
    },
    {
      "cell_type": "markdown",
      "source": [
        "### Initialize UNET model for training\n",
        "\n",
        "Here we initialize the defined UNET model for training and calculate the steps per epoch for train/val/test set."
      ],
      "metadata": {
        "id": "tAO9M_R4XG6q"
      }
    },
    {
      "cell_type": "code",
      "source": [
        "model = UNET().to(DEVICE)\n",
        "\n",
        "# loss / optimizer\n",
        "lossFunction = BCEWithLogitsLoss()\n",
        "opt = Adam(model.parameters(), lr=init_lr)\n",
        "\n",
        "# calculate steps per epoch for train/val/test\n",
        "trainSteps = len(trainDS) // BATCH_SIZE \n",
        "valSteps = len(valDS) // BATCH_SIZE\n",
        "testSteps = len(testDS) // BATCH_SIZE\n",
        "\n",
        "print(trainSteps, valSteps, testSteps)\n",
        "\n",
        "# initialize a dictionary to store training history\n",
        "H = {\"train_loss\": [], \"val_loss\": []}\n",
        "H"
      ],
      "metadata": {
        "colab": {
          "base_uri": "https://localhost:8080/"
        },
        "id": "2IMsYzUaXJW7",
        "outputId": "5328f1e2-4a71-4c05-fa9e-23b768971315"
      },
      "execution_count": null,
      "outputs": [
        {
          "output_type": "stream",
          "name": "stdout",
          "text": [
            "100 25 3\n"
          ]
        },
        {
          "output_type": "execute_result",
          "data": {
            "text/plain": [
              "{'train_loss': [], 'val_loss': []}"
            ]
          },
          "metadata": {},
          "execution_count": 15
        }
      ]
    },
    {
      "cell_type": "code",
      "source": [
        "torch.cuda.empty_cache() # PyTorch thing to empty cache"
      ],
      "metadata": {
        "id": "WEP-IVokbWQg"
      },
      "execution_count": null,
      "outputs": []
    },
    {
      "cell_type": "markdown",
      "source": [
        "### TRAINING THE MODEL\n",
        "\n",
        "Run this piece of code only if you want to train the model from scratch.\n",
        "\n",
        "TO DO:\n",
        "\n",
        "*   Calculate Intersection over Union\n",
        "*   Calculate Accuracy metrics\n",
        "\n",
        "I do not know exactly how to add these metrics into the training process when perfoming validation. Needs some more work.\n",
        "\n"
      ],
      "metadata": {
        "id": "xcjuKhMeXLU-"
      }
    },
    {
      "cell_type": "code",
      "source": [
        "# loop over epochs\n",
        "print(\"[INFO] training UNET ...\")\n",
        "startTime = time.time()\n",
        "\n",
        "for epoch in tqdm(range(EPOCHS)):\n",
        "    tast\n",
        "    model.train()\n",
        "\n",
        "    # initialize total training and validation loss\n",
        "    totalTrainLoss = 0\n",
        "    totalValLoss = 0\n",
        "\n",
        "    # loop over the training set\n",
        "    for (i, (x, y)) in enumerate(trainLoader):\n",
        "        # send output to device\n",
        "        (x, y) = (x.to(DEVICE), y.to(DEVICE))\n",
        "\n",
        "        # perform a forward pass and calculate the training loss\n",
        "        pred = model(x)\n",
        "        loss = lossFunction(pred, y)\n",
        "\n",
        "        # kill previously accumulated gradients then\n",
        "        # perform backpropagation and update model parameters\n",
        "        opt.zero_grad()\n",
        "        loss.backward()\n",
        "        opt.step()\n",
        "\n",
        "        # add the loss to the total training loss\n",
        "        totalTrainLoss += loss\n",
        "\n",
        "    # switch of autograd\n",
        "    with torch.no_grad():\n",
        "        # set the model in evaluation mode\n",
        "        model.eval()\n",
        "\n",
        "        # loop over the validation set\n",
        "        for (x, y) in valLoader:\n",
        "             # send the input to the device\n",
        "            (x, y) = (x.to(DEVICE), y.to(DEVICE))\n",
        "\n",
        "            # make the predictions and calculate the validation loss\n",
        "            pred = model(x)\n",
        "            totalValLoss += lossFunction(pred, y)\n",
        "\n",
        "    # calculate the average training and validation loss\n",
        "    avgTrainLoss = totalTrainLoss / trainSteps\n",
        "    avgValLoss = totalValLoss / valSteps\n",
        "        \n",
        "    # update our training history\n",
        "    H[\"train_loss\"].append(avgTrainLoss.cpu().detach().numpy())\n",
        "    H[\"val_loss\"].append(avgValLoss.cpu().detach().numpy())\n",
        "\n",
        "    # print the model training and validation information\n",
        "    print(\"[INFO] EPOCH: {}/{}\".format(epoch + 1, EPOCHS))\n",
        "    print(\"Train loss: {:.6f}, Val loss: {:.4f}\".format(avgTrainLoss, avgValLoss))\n",
        "        \n",
        "# display the total time needed to perform the training\n",
        "endTime = time.time()\n",
        "print(\"[INFO] total time taken to train the model: {:.2f}s\".format(endTime - startTime))\n",
        "    "
      ],
      "metadata": {
        "colab": {
          "base_uri": "https://localhost:8080/"
        },
        "id": "vWuUyLUgXPNf",
        "outputId": "34c6485b-838b-45cf-99da-601f7cfbc4d1"
      },
      "execution_count": null,
      "outputs": [
        {
          "metadata": {
            "tags": null
          },
          "name": "stdout",
          "output_type": "stream",
          "text": [
            "[INFO] training UNET ...\n"
          ]
        },
        {
          "metadata": {
            "tags": null
          },
          "name": "stderr",
          "output_type": "stream",
          "text": [
            "  1%|          | 1/100 [00:30<50:48, 30.79s/it]"
          ]
        },
        {
          "metadata": {
            "tags": null
          },
          "name": "stdout",
          "output_type": "stream",
          "text": [
            "[INFO] EPOCH: 1/100\n",
            "Train loss: 0.322177, Val loss: 0.3131\n"
          ]
        },
        {
          "metadata": {
            "tags": null
          },
          "name": "stderr",
          "output_type": "stream",
          "text": [
            "\r  2%|▏         | 2/100 [00:53<42:44, 26.17s/it]"
          ]
        },
        {
          "metadata": {
            "tags": null
          },
          "name": "stdout",
          "output_type": "stream",
          "text": [
            "[INFO] EPOCH: 2/100\n",
            "Train loss: 0.231014, Val loss: 0.3072\n"
          ]
        },
        {
          "metadata": {
            "tags": null
          },
          "name": "stderr",
          "output_type": "stream",
          "text": [
            "\r  3%|▎         | 3/100 [01:16<39:59, 24.74s/it]"
          ]
        },
        {
          "metadata": {
            "tags": null
          },
          "name": "stdout",
          "output_type": "stream",
          "text": [
            "[INFO] EPOCH: 3/100\n",
            "Train loss: 0.202011, Val loss: 0.2483\n"
          ]
        },
        {
          "metadata": {
            "tags": null
          },
          "name": "stderr",
          "output_type": "stream",
          "text": [
            "\r  4%|▍         | 4/100 [01:39<38:27, 24.04s/it]"
          ]
        },
        {
          "metadata": {
            "tags": null
          },
          "name": "stdout",
          "output_type": "stream",
          "text": [
            "[INFO] EPOCH: 4/100\n",
            "Train loss: 0.182018, Val loss: 0.2595\n"
          ]
        },
        {
          "metadata": {
            "tags": null
          },
          "name": "stderr",
          "output_type": "stream",
          "text": [
            "\r  5%|▌         | 5/100 [02:02<37:24, 23.62s/it]"
          ]
        },
        {
          "metadata": {
            "tags": null
          },
          "name": "stdout",
          "output_type": "stream",
          "text": [
            "[INFO] EPOCH: 5/100\n",
            "Train loss: 0.172433, Val loss: 0.2092\n"
          ]
        },
        {
          "metadata": {
            "tags": null
          },
          "name": "stderr",
          "output_type": "stream",
          "text": [
            "\r  6%|▌         | 6/100 [02:25<36:38, 23.39s/it]"
          ]
        },
        {
          "metadata": {
            "tags": null
          },
          "name": "stdout",
          "output_type": "stream",
          "text": [
            "[INFO] EPOCH: 6/100\n",
            "Train loss: 0.163027, Val loss: 0.3583\n"
          ]
        },
        {
          "metadata": {
            "tags": null
          },
          "name": "stderr",
          "output_type": "stream",
          "text": [
            "\r  7%|▋         | 7/100 [02:48<36:03, 23.27s/it]"
          ]
        },
        {
          "metadata": {
            "tags": null
          },
          "name": "stdout",
          "output_type": "stream",
          "text": [
            "[INFO] EPOCH: 7/100\n",
            "Train loss: 0.152165, Val loss: 0.1838\n"
          ]
        },
        {
          "metadata": {
            "tags": null
          },
          "name": "stderr",
          "output_type": "stream",
          "text": [
            "\r  8%|▊         | 8/100 [03:11<35:33, 23.19s/it]"
          ]
        },
        {
          "metadata": {
            "tags": null
          },
          "name": "stdout",
          "output_type": "stream",
          "text": [
            "[INFO] EPOCH: 8/100\n",
            "Train loss: 0.144164, Val loss: 0.2030\n"
          ]
        },
        {
          "metadata": {
            "tags": null
          },
          "name": "stderr",
          "output_type": "stream",
          "text": [
            "\r  9%|▉         | 9/100 [03:34<35:06, 23.15s/it]"
          ]
        },
        {
          "metadata": {
            "tags": null
          },
          "name": "stdout",
          "output_type": "stream",
          "text": [
            "[INFO] EPOCH: 9/100\n",
            "Train loss: 0.139890, Val loss: 0.1708\n"
          ]
        },
        {
          "metadata": {
            "tags": null
          },
          "name": "stderr",
          "output_type": "stream",
          "text": [
            "\r 10%|█         | 10/100 [03:57<34:40, 23.11s/it]"
          ]
        },
        {
          "metadata": {
            "tags": null
          },
          "name": "stdout",
          "output_type": "stream",
          "text": [
            "[INFO] EPOCH: 10/100\n",
            "Train loss: 0.135839, Val loss: 0.1870\n"
          ]
        },
        {
          "metadata": {
            "tags": null
          },
          "name": "stderr",
          "output_type": "stream",
          "text": [
            "\r 11%|█         | 11/100 [04:20<34:16, 23.11s/it]"
          ]
        },
        {
          "metadata": {
            "tags": null
          },
          "name": "stdout",
          "output_type": "stream",
          "text": [
            "[INFO] EPOCH: 11/100\n",
            "Train loss: 0.131300, Val loss: 0.1923\n"
          ]
        },
        {
          "metadata": {
            "tags": null
          },
          "name": "stderr",
          "output_type": "stream",
          "text": [
            "\r 12%|█▏        | 12/100 [04:43<33:49, 23.07s/it]"
          ]
        },
        {
          "metadata": {
            "tags": null
          },
          "name": "stdout",
          "output_type": "stream",
          "text": [
            "[INFO] EPOCH: 12/100\n",
            "Train loss: 0.119804, Val loss: 0.1905\n"
          ]
        },
        {
          "metadata": {
            "tags": null
          },
          "name": "stderr",
          "output_type": "stream",
          "text": [
            "\r 13%|█▎        | 13/100 [05:06<33:26, 23.07s/it]"
          ]
        },
        {
          "metadata": {
            "tags": null
          },
          "name": "stdout",
          "output_type": "stream",
          "text": [
            "[INFO] EPOCH: 13/100\n",
            "Train loss: 0.130410, Val loss: 0.1611\n"
          ]
        },
        {
          "metadata": {
            "tags": null
          },
          "name": "stderr",
          "output_type": "stream",
          "text": [
            "\r 14%|█▍        | 14/100 [05:29<33:04, 23.08s/it]"
          ]
        },
        {
          "metadata": {
            "tags": null
          },
          "name": "stdout",
          "output_type": "stream",
          "text": [
            "[INFO] EPOCH: 14/100\n",
            "Train loss: 0.122154, Val loss: 0.2220\n"
          ]
        },
        {
          "metadata": {
            "tags": null
          },
          "name": "stderr",
          "output_type": "stream",
          "text": [
            "\r 15%|█▌        | 15/100 [05:52<32:41, 23.07s/it]"
          ]
        },
        {
          "metadata": {
            "tags": null
          },
          "name": "stdout",
          "output_type": "stream",
          "text": [
            "[INFO] EPOCH: 15/100\n",
            "Train loss: 0.114768, Val loss: 0.1684\n"
          ]
        },
        {
          "metadata": {
            "tags": null
          },
          "name": "stderr",
          "output_type": "stream",
          "text": [
            "\r 16%|█▌        | 16/100 [06:16<32:19, 23.08s/it]"
          ]
        },
        {
          "metadata": {
            "tags": null
          },
          "name": "stdout",
          "output_type": "stream",
          "text": [
            "[INFO] EPOCH: 16/100\n",
            "Train loss: 0.118851, Val loss: 0.2310\n"
          ]
        },
        {
          "metadata": {
            "tags": null
          },
          "name": "stderr",
          "output_type": "stream",
          "text": [
            "\r 17%|█▋        | 17/100 [06:39<31:57, 23.10s/it]"
          ]
        },
        {
          "metadata": {
            "tags": null
          },
          "name": "stdout",
          "output_type": "stream",
          "text": [
            "[INFO] EPOCH: 17/100\n",
            "Train loss: 0.114740, Val loss: 0.1805\n"
          ]
        },
        {
          "metadata": {
            "tags": null
          },
          "name": "stderr",
          "output_type": "stream",
          "text": [
            "\r 18%|█▊        | 18/100 [07:02<31:35, 23.11s/it]"
          ]
        },
        {
          "metadata": {
            "tags": null
          },
          "name": "stdout",
          "output_type": "stream",
          "text": [
            "[INFO] EPOCH: 18/100\n",
            "Train loss: 0.108296, Val loss: 0.1669\n"
          ]
        },
        {
          "metadata": {
            "tags": null
          },
          "name": "stderr",
          "output_type": "stream",
          "text": [
            "\r 19%|█▉        | 19/100 [07:25<31:10, 23.09s/it]"
          ]
        },
        {
          "metadata": {
            "tags": null
          },
          "name": "stdout",
          "output_type": "stream",
          "text": [
            "[INFO] EPOCH: 19/100\n",
            "Train loss: 0.103013, Val loss: 0.1662\n"
          ]
        },
        {
          "metadata": {
            "tags": null
          },
          "name": "stderr",
          "output_type": "stream",
          "text": [
            "\r 20%|██        | 20/100 [07:48<30:42, 23.03s/it]"
          ]
        },
        {
          "metadata": {
            "tags": null
          },
          "name": "stdout",
          "output_type": "stream",
          "text": [
            "[INFO] EPOCH: 20/100\n",
            "Train loss: 0.100889, Val loss: 0.1913\n"
          ]
        },
        {
          "metadata": {
            "tags": null
          },
          "name": "stderr",
          "output_type": "stream",
          "text": [
            "\r 21%|██        | 21/100 [08:11<30:18, 23.02s/it]"
          ]
        },
        {
          "metadata": {
            "tags": null
          },
          "name": "stdout",
          "output_type": "stream",
          "text": [
            "[INFO] EPOCH: 21/100\n",
            "Train loss: 0.107187, Val loss: 0.1646\n"
          ]
        },
        {
          "metadata": {
            "tags": null
          },
          "name": "stderr",
          "output_type": "stream",
          "text": [
            "\r 22%|██▏       | 22/100 [08:34<29:56, 23.03s/it]"
          ]
        },
        {
          "metadata": {
            "tags": null
          },
          "name": "stdout",
          "output_type": "stream",
          "text": [
            "[INFO] EPOCH: 22/100\n",
            "Train loss: 0.094146, Val loss: 0.1712\n"
          ]
        },
        {
          "metadata": {
            "tags": null
          },
          "name": "stderr",
          "output_type": "stream",
          "text": [
            "\r 23%|██▎       | 23/100 [08:57<29:31, 23.01s/it]"
          ]
        },
        {
          "metadata": {
            "tags": null
          },
          "name": "stdout",
          "output_type": "stream",
          "text": [
            "[INFO] EPOCH: 23/100\n",
            "Train loss: 0.095037, Val loss: 0.4394\n"
          ]
        },
        {
          "metadata": {
            "tags": null
          },
          "name": "stderr",
          "output_type": "stream",
          "text": [
            "\r 24%|██▍       | 24/100 [09:20<29:09, 23.02s/it]"
          ]
        },
        {
          "metadata": {
            "tags": null
          },
          "name": "stdout",
          "output_type": "stream",
          "text": [
            "[INFO] EPOCH: 24/100\n",
            "Train loss: 0.104237, Val loss: 0.1460\n"
          ]
        },
        {
          "metadata": {
            "tags": null
          },
          "name": "stderr",
          "output_type": "stream",
          "text": [
            "\r 25%|██▌       | 25/100 [09:43<28:48, 23.05s/it]"
          ]
        },
        {
          "metadata": {
            "tags": null
          },
          "name": "stdout",
          "output_type": "stream",
          "text": [
            "[INFO] EPOCH: 25/100\n",
            "Train loss: 0.087774, Val loss: 0.2180\n"
          ]
        },
        {
          "metadata": {
            "tags": null
          },
          "name": "stderr",
          "output_type": "stream",
          "text": [
            "\r 26%|██▌       | 26/100 [10:06<28:25, 23.05s/it]"
          ]
        },
        {
          "metadata": {
            "tags": null
          },
          "name": "stdout",
          "output_type": "stream",
          "text": [
            "[INFO] EPOCH: 26/100\n",
            "Train loss: 0.085913, Val loss: 0.1329\n"
          ]
        },
        {
          "metadata": {
            "tags": null
          },
          "name": "stderr",
          "output_type": "stream",
          "text": [
            "\r 27%|██▋       | 27/100 [10:29<28:02, 23.04s/it]"
          ]
        },
        {
          "metadata": {
            "tags": null
          },
          "name": "stdout",
          "output_type": "stream",
          "text": [
            "[INFO] EPOCH: 27/100\n",
            "Train loss: 0.079048, Val loss: 0.1427\n"
          ]
        },
        {
          "metadata": {
            "tags": null
          },
          "name": "stderr",
          "output_type": "stream",
          "text": [
            "\r 28%|██▊       | 28/100 [10:52<27:40, 23.06s/it]"
          ]
        },
        {
          "metadata": {
            "tags": null
          },
          "name": "stdout",
          "output_type": "stream",
          "text": [
            "[INFO] EPOCH: 28/100\n",
            "Train loss: 0.075221, Val loss: 0.1223\n"
          ]
        },
        {
          "metadata": {
            "tags": null
          },
          "name": "stderr",
          "output_type": "stream",
          "text": [
            "\r 29%|██▉       | 29/100 [11:15<27:20, 23.10s/it]"
          ]
        },
        {
          "metadata": {
            "tags": null
          },
          "name": "stdout",
          "output_type": "stream",
          "text": [
            "[INFO] EPOCH: 29/100\n",
            "Train loss: 0.076108, Val loss: 0.1659\n"
          ]
        },
        {
          "metadata": {
            "tags": null
          },
          "name": "stderr",
          "output_type": "stream",
          "text": [
            "\r 30%|███       | 30/100 [11:39<27:00, 23.15s/it]"
          ]
        },
        {
          "metadata": {
            "tags": null
          },
          "name": "stdout",
          "output_type": "stream",
          "text": [
            "[INFO] EPOCH: 30/100\n",
            "Train loss: 0.074082, Val loss: 0.1261\n"
          ]
        },
        {
          "metadata": {
            "tags": null
          },
          "name": "stderr",
          "output_type": "stream",
          "text": [
            "\r 31%|███       | 31/100 [12:02<26:35, 23.13s/it]"
          ]
        },
        {
          "metadata": {
            "tags": null
          },
          "name": "stdout",
          "output_type": "stream",
          "text": [
            "[INFO] EPOCH: 31/100\n",
            "Train loss: 0.073539, Val loss: 0.1823\n"
          ]
        },
        {
          "metadata": {
            "tags": null
          },
          "name": "stderr",
          "output_type": "stream",
          "text": [
            "\r 32%|███▏      | 32/100 [12:25<26:09, 23.08s/it]"
          ]
        },
        {
          "metadata": {
            "tags": null
          },
          "name": "stdout",
          "output_type": "stream",
          "text": [
            "[INFO] EPOCH: 32/100\n",
            "Train loss: 0.072784, Val loss: 0.1175\n"
          ]
        },
        {
          "metadata": {
            "tags": null
          },
          "name": "stderr",
          "output_type": "stream",
          "text": [
            "\r 33%|███▎      | 33/100 [12:48<25:49, 23.12s/it]"
          ]
        },
        {
          "metadata": {
            "tags": null
          },
          "name": "stdout",
          "output_type": "stream",
          "text": [
            "[INFO] EPOCH: 33/100\n",
            "Train loss: 0.070939, Val loss: 0.1738\n"
          ]
        },
        {
          "metadata": {
            "tags": null
          },
          "name": "stderr",
          "output_type": "stream",
          "text": [
            "\r 34%|███▍      | 34/100 [13:11<25:22, 23.07s/it]"
          ]
        },
        {
          "metadata": {
            "tags": null
          },
          "name": "stdout",
          "output_type": "stream",
          "text": [
            "[INFO] EPOCH: 34/100\n",
            "Train loss: 0.078732, Val loss: 0.1424\n"
          ]
        },
        {
          "metadata": {
            "tags": null
          },
          "name": "stderr",
          "output_type": "stream",
          "text": [
            "\r 35%|███▌      | 35/100 [13:34<24:59, 23.07s/it]"
          ]
        },
        {
          "metadata": {
            "tags": null
          },
          "name": "stdout",
          "output_type": "stream",
          "text": [
            "[INFO] EPOCH: 35/100\n",
            "Train loss: 0.067907, Val loss: 0.1237\n"
          ]
        },
        {
          "metadata": {
            "tags": null
          },
          "name": "stderr",
          "output_type": "stream",
          "text": [
            "\r 36%|███▌      | 36/100 [13:57<24:34, 23.04s/it]"
          ]
        },
        {
          "metadata": {
            "tags": null
          },
          "name": "stdout",
          "output_type": "stream",
          "text": [
            "[INFO] EPOCH: 36/100\n",
            "Train loss: 0.063843, Val loss: 0.1599\n"
          ]
        },
        {
          "metadata": {
            "tags": null
          },
          "name": "stderr",
          "output_type": "stream",
          "text": [
            "\r 37%|███▋      | 37/100 [14:20<24:11, 23.04s/it]"
          ]
        },
        {
          "metadata": {
            "tags": null
          },
          "name": "stdout",
          "output_type": "stream",
          "text": [
            "[INFO] EPOCH: 37/100\n",
            "Train loss: 0.066537, Val loss: 0.1283\n"
          ]
        },
        {
          "metadata": {
            "tags": null
          },
          "name": "stderr",
          "output_type": "stream",
          "text": [
            "\r 38%|███▊      | 38/100 [14:43<23:48, 23.04s/it]"
          ]
        },
        {
          "metadata": {
            "tags": null
          },
          "name": "stdout",
          "output_type": "stream",
          "text": [
            "[INFO] EPOCH: 38/100\n",
            "Train loss: 0.059639, Val loss: 0.1238\n"
          ]
        },
        {
          "metadata": {
            "tags": null
          },
          "name": "stderr",
          "output_type": "stream",
          "text": [
            "\r 39%|███▉      | 39/100 [15:06<23:24, 23.02s/it]"
          ]
        },
        {
          "metadata": {
            "tags": null
          },
          "name": "stdout",
          "output_type": "stream",
          "text": [
            "[INFO] EPOCH: 39/100\n",
            "Train loss: 0.056025, Val loss: 0.1078\n"
          ]
        },
        {
          "metadata": {
            "tags": null
          },
          "name": "stderr",
          "output_type": "stream",
          "text": [
            "\r 40%|████      | 40/100 [15:29<23:00, 23.01s/it]"
          ]
        },
        {
          "metadata": {
            "tags": null
          },
          "name": "stdout",
          "output_type": "stream",
          "text": [
            "[INFO] EPOCH: 40/100\n",
            "Train loss: 0.063328, Val loss: 0.1160\n"
          ]
        },
        {
          "metadata": {
            "tags": null
          },
          "name": "stderr",
          "output_type": "stream",
          "text": [
            "\r 41%|████      | 41/100 [15:52<22:37, 23.01s/it]"
          ]
        },
        {
          "metadata": {
            "tags": null
          },
          "name": "stdout",
          "output_type": "stream",
          "text": [
            "[INFO] EPOCH: 41/100\n",
            "Train loss: 0.085953, Val loss: 0.1687\n"
          ]
        },
        {
          "metadata": {
            "tags": null
          },
          "name": "stderr",
          "output_type": "stream",
          "text": [
            "\r 42%|████▏     | 42/100 [16:15<22:14, 23.01s/it]"
          ]
        },
        {
          "metadata": {
            "tags": null
          },
          "name": "stdout",
          "output_type": "stream",
          "text": [
            "[INFO] EPOCH: 42/100\n",
            "Train loss: 0.059897, Val loss: 0.1109\n"
          ]
        },
        {
          "metadata": {
            "tags": null
          },
          "name": "stderr",
          "output_type": "stream",
          "text": [
            "\r 43%|████▎     | 43/100 [16:38<21:53, 23.04s/it]"
          ]
        },
        {
          "metadata": {
            "tags": null
          },
          "name": "stdout",
          "output_type": "stream",
          "text": [
            "[INFO] EPOCH: 43/100\n",
            "Train loss: 0.054752, Val loss: 0.1148\n"
          ]
        },
        {
          "metadata": {
            "tags": null
          },
          "name": "stderr",
          "output_type": "stream",
          "text": [
            "\r 44%|████▍     | 44/100 [17:01<21:30, 23.05s/it]"
          ]
        },
        {
          "metadata": {
            "tags": null
          },
          "name": "stdout",
          "output_type": "stream",
          "text": [
            "[INFO] EPOCH: 44/100\n",
            "Train loss: 0.053149, Val loss: 0.1306\n"
          ]
        },
        {
          "metadata": {
            "tags": null
          },
          "name": "stderr",
          "output_type": "stream",
          "text": [
            "\r 45%|████▌     | 45/100 [17:24<21:10, 23.09s/it]"
          ]
        },
        {
          "metadata": {
            "tags": null
          },
          "name": "stdout",
          "output_type": "stream",
          "text": [
            "[INFO] EPOCH: 45/100\n",
            "Train loss: 0.051189, Val loss: 0.1454\n"
          ]
        },
        {
          "metadata": {
            "tags": null
          },
          "name": "stderr",
          "output_type": "stream",
          "text": [
            "\r 46%|████▌     | 46/100 [17:47<20:46, 23.08s/it]"
          ]
        },
        {
          "metadata": {
            "tags": null
          },
          "name": "stdout",
          "output_type": "stream",
          "text": [
            "[INFO] EPOCH: 46/100\n",
            "Train loss: 0.052955, Val loss: 0.1238\n"
          ]
        },
        {
          "metadata": {
            "tags": null
          },
          "name": "stderr",
          "output_type": "stream",
          "text": [
            "\r 47%|████▋     | 47/100 [18:10<20:21, 23.04s/it]"
          ]
        },
        {
          "metadata": {
            "tags": null
          },
          "name": "stdout",
          "output_type": "stream",
          "text": [
            "[INFO] EPOCH: 47/100\n",
            "Train loss: 0.049381, Val loss: 0.1233\n"
          ]
        },
        {
          "metadata": {
            "tags": null
          },
          "name": "stderr",
          "output_type": "stream",
          "text": [
            "\r 48%|████▊     | 48/100 [18:33<19:57, 23.02s/it]"
          ]
        },
        {
          "metadata": {
            "tags": null
          },
          "name": "stdout",
          "output_type": "stream",
          "text": [
            "[INFO] EPOCH: 48/100\n",
            "Train loss: 0.054801, Val loss: 0.1959\n"
          ]
        },
        {
          "metadata": {
            "tags": null
          },
          "name": "stderr",
          "output_type": "stream",
          "text": [
            "\r 49%|████▉     | 49/100 [18:56<19:35, 23.05s/it]"
          ]
        },
        {
          "metadata": {
            "tags": null
          },
          "name": "stdout",
          "output_type": "stream",
          "text": [
            "[INFO] EPOCH: 49/100\n",
            "Train loss: 0.067302, Val loss: 0.1395\n"
          ]
        },
        {
          "metadata": {
            "tags": null
          },
          "name": "stderr",
          "output_type": "stream",
          "text": [
            "\r 50%|█████     | 50/100 [19:20<19:14, 23.08s/it]"
          ]
        },
        {
          "metadata": {
            "tags": null
          },
          "name": "stdout",
          "output_type": "stream",
          "text": [
            "[INFO] EPOCH: 50/100\n",
            "Train loss: 0.053990, Val loss: 0.1718\n"
          ]
        },
        {
          "metadata": {
            "tags": null
          },
          "name": "stderr",
          "output_type": "stream",
          "text": [
            "\r 51%|█████     | 51/100 [19:43<18:51, 23.09s/it]"
          ]
        },
        {
          "metadata": {
            "tags": null
          },
          "name": "stdout",
          "output_type": "stream",
          "text": [
            "[INFO] EPOCH: 51/100\n",
            "Train loss: 0.050220, Val loss: 0.1164\n"
          ]
        },
        {
          "metadata": {
            "tags": null
          },
          "name": "stderr",
          "output_type": "stream",
          "text": [
            "\r 52%|█████▏    | 52/100 [20:06<18:30, 23.13s/it]"
          ]
        },
        {
          "metadata": {
            "tags": null
          },
          "name": "stdout",
          "output_type": "stream",
          "text": [
            "[INFO] EPOCH: 52/100\n",
            "Train loss: 0.046768, Val loss: 0.1167\n"
          ]
        },
        {
          "metadata": {
            "tags": null
          },
          "name": "stderr",
          "output_type": "stream",
          "text": [
            "\r 53%|█████▎    | 53/100 [20:29<18:06, 23.11s/it]"
          ]
        },
        {
          "metadata": {
            "tags": null
          },
          "name": "stdout",
          "output_type": "stream",
          "text": [
            "[INFO] EPOCH: 53/100\n",
            "Train loss: 0.046711, Val loss: 0.1284\n"
          ]
        },
        {
          "metadata": {
            "tags": null
          },
          "name": "stderr",
          "output_type": "stream",
          "text": [
            "\r 54%|█████▍    | 54/100 [20:52<17:40, 23.06s/it]"
          ]
        },
        {
          "metadata": {
            "tags": null
          },
          "name": "stdout",
          "output_type": "stream",
          "text": [
            "[INFO] EPOCH: 54/100\n",
            "Train loss: 0.049244, Val loss: 0.1154\n"
          ]
        },
        {
          "metadata": {
            "tags": null
          },
          "name": "stderr",
          "output_type": "stream",
          "text": [
            "\r 55%|█████▌    | 55/100 [21:15<17:16, 23.02s/it]"
          ]
        },
        {
          "metadata": {
            "tags": null
          },
          "name": "stdout",
          "output_type": "stream",
          "text": [
            "[INFO] EPOCH: 55/100\n",
            "Train loss: 0.045181, Val loss: 0.1216\n"
          ]
        },
        {
          "metadata": {
            "tags": null
          },
          "name": "stderr",
          "output_type": "stream",
          "text": [
            "\r 56%|█████▌    | 56/100 [21:38<16:53, 23.04s/it]"
          ]
        },
        {
          "metadata": {
            "tags": null
          },
          "name": "stdout",
          "output_type": "stream",
          "text": [
            "[INFO] EPOCH: 56/100\n",
            "Train loss: 0.043130, Val loss: 0.1243\n"
          ]
        },
        {
          "metadata": {
            "tags": null
          },
          "name": "stderr",
          "output_type": "stream",
          "text": [
            "\r 57%|█████▋    | 57/100 [22:01<16:31, 23.06s/it]"
          ]
        },
        {
          "metadata": {
            "tags": null
          },
          "name": "stdout",
          "output_type": "stream",
          "text": [
            "[INFO] EPOCH: 57/100\n",
            "Train loss: 0.042166, Val loss: 0.1112\n"
          ]
        },
        {
          "metadata": {
            "tags": null
          },
          "name": "stderr",
          "output_type": "stream",
          "text": [
            "\r 58%|█████▊    | 58/100 [22:24<16:12, 23.16s/it]"
          ]
        },
        {
          "metadata": {
            "tags": null
          },
          "name": "stdout",
          "output_type": "stream",
          "text": [
            "[INFO] EPOCH: 58/100\n",
            "Train loss: 0.040757, Val loss: 0.1400\n"
          ]
        },
        {
          "metadata": {
            "tags": null
          },
          "name": "stderr",
          "output_type": "stream",
          "text": [
            "\r 59%|█████▉    | 59/100 [22:47<15:47, 23.11s/it]"
          ]
        },
        {
          "metadata": {
            "tags": null
          },
          "name": "stdout",
          "output_type": "stream",
          "text": [
            "[INFO] EPOCH: 59/100\n",
            "Train loss: 0.073318, Val loss: 0.1136\n"
          ]
        },
        {
          "metadata": {
            "tags": null
          },
          "name": "stderr",
          "output_type": "stream",
          "text": [
            "\r 60%|██████    | 60/100 [23:11<15:24, 23.12s/it]"
          ]
        },
        {
          "metadata": {
            "tags": null
          },
          "name": "stdout",
          "output_type": "stream",
          "text": [
            "[INFO] EPOCH: 60/100\n",
            "Train loss: 0.045262, Val loss: 0.1271\n"
          ]
        },
        {
          "metadata": {
            "tags": null
          },
          "name": "stderr",
          "output_type": "stream",
          "text": [
            "\r 61%|██████    | 61/100 [23:34<15:02, 23.13s/it]"
          ]
        },
        {
          "metadata": {
            "tags": null
          },
          "name": "stdout",
          "output_type": "stream",
          "text": [
            "[INFO] EPOCH: 61/100\n",
            "Train loss: 0.044357, Val loss: 0.1195\n"
          ]
        },
        {
          "metadata": {
            "tags": null
          },
          "name": "stderr",
          "output_type": "stream",
          "text": [
            "\r 62%|██████▏   | 62/100 [23:57<14:38, 23.11s/it]"
          ]
        },
        {
          "metadata": {
            "tags": null
          },
          "name": "stdout",
          "output_type": "stream",
          "text": [
            "[INFO] EPOCH: 62/100\n",
            "Train loss: 0.038215, Val loss: 0.1253\n"
          ]
        },
        {
          "metadata": {
            "tags": null
          },
          "name": "stderr",
          "output_type": "stream",
          "text": [
            "\r 63%|██████▎   | 63/100 [24:20<14:15, 23.13s/it]"
          ]
        },
        {
          "metadata": {
            "tags": null
          },
          "name": "stdout",
          "output_type": "stream",
          "text": [
            "[INFO] EPOCH: 63/100\n",
            "Train loss: 0.036284, Val loss: 0.1508\n"
          ]
        },
        {
          "metadata": {
            "tags": null
          },
          "name": "stderr",
          "output_type": "stream",
          "text": [
            "\r 64%|██████▍   | 64/100 [24:43<13:54, 23.19s/it]"
          ]
        },
        {
          "metadata": {
            "tags": null
          },
          "name": "stdout",
          "output_type": "stream",
          "text": [
            "[INFO] EPOCH: 64/100\n",
            "Train loss: 0.036524, Val loss: 0.1364\n"
          ]
        },
        {
          "metadata": {
            "tags": null
          },
          "name": "stderr",
          "output_type": "stream",
          "text": [
            "\r 65%|██████▌   | 65/100 [25:06<13:31, 23.17s/it]"
          ]
        },
        {
          "metadata": {
            "tags": null
          },
          "name": "stdout",
          "output_type": "stream",
          "text": [
            "[INFO] EPOCH: 65/100\n",
            "Train loss: 0.036983, Val loss: 0.1392\n"
          ]
        },
        {
          "metadata": {
            "tags": null
          },
          "name": "stderr",
          "output_type": "stream",
          "text": [
            "\r 66%|██████▌   | 66/100 [25:29<13:06, 23.14s/it]"
          ]
        },
        {
          "metadata": {
            "tags": null
          },
          "name": "stdout",
          "output_type": "stream",
          "text": [
            "[INFO] EPOCH: 66/100\n",
            "Train loss: 0.075321, Val loss: 0.1514\n"
          ]
        },
        {
          "metadata": {
            "tags": null
          },
          "name": "stderr",
          "output_type": "stream",
          "text": [
            "\r 67%|██████▋   | 67/100 [25:53<12:43, 23.13s/it]"
          ]
        },
        {
          "metadata": {
            "tags": null
          },
          "name": "stdout",
          "output_type": "stream",
          "text": [
            "[INFO] EPOCH: 67/100\n",
            "Train loss: 0.051364, Val loss: 0.1215\n"
          ]
        },
        {
          "metadata": {
            "tags": null
          },
          "name": "stderr",
          "output_type": "stream",
          "text": [
            "\r 68%|██████▊   | 68/100 [26:16<12:18, 23.09s/it]"
          ]
        },
        {
          "metadata": {
            "tags": null
          },
          "name": "stdout",
          "output_type": "stream",
          "text": [
            "[INFO] EPOCH: 68/100\n",
            "Train loss: 0.037117, Val loss: 0.1224\n"
          ]
        },
        {
          "metadata": {
            "tags": null
          },
          "name": "stderr",
          "output_type": "stream",
          "text": [
            "\r 69%|██████▉   | 69/100 [26:39<11:55, 23.08s/it]"
          ]
        },
        {
          "metadata": {
            "tags": null
          },
          "name": "stdout",
          "output_type": "stream",
          "text": [
            "[INFO] EPOCH: 69/100\n",
            "Train loss: 0.034744, Val loss: 0.1194\n"
          ]
        },
        {
          "metadata": {
            "tags": null
          },
          "name": "stderr",
          "output_type": "stream",
          "text": [
            "\r 70%|███████   | 70/100 [27:02<11:31, 23.05s/it]"
          ]
        },
        {
          "metadata": {
            "tags": null
          },
          "name": "stdout",
          "output_type": "stream",
          "text": [
            "[INFO] EPOCH: 70/100\n",
            "Train loss: 0.034685, Val loss: 0.1289\n"
          ]
        },
        {
          "metadata": {
            "tags": null
          },
          "name": "stderr",
          "output_type": "stream",
          "text": [
            "\r 71%|███████   | 71/100 [27:25<11:09, 23.09s/it]"
          ]
        },
        {
          "metadata": {
            "tags": null
          },
          "name": "stdout",
          "output_type": "stream",
          "text": [
            "[INFO] EPOCH: 71/100\n",
            "Train loss: 0.035353, Val loss: 0.1175\n"
          ]
        },
        {
          "metadata": {
            "tags": null
          },
          "name": "stderr",
          "output_type": "stream",
          "text": [
            "\r 72%|███████▏  | 72/100 [27:48<10:45, 23.06s/it]"
          ]
        },
        {
          "metadata": {
            "tags": null
          },
          "name": "stdout",
          "output_type": "stream",
          "text": [
            "[INFO] EPOCH: 72/100\n",
            "Train loss: 0.040041, Val loss: 0.1324\n"
          ]
        },
        {
          "metadata": {
            "tags": null
          },
          "name": "stderr",
          "output_type": "stream",
          "text": [
            "\r 73%|███████▎  | 73/100 [28:11<10:23, 23.08s/it]"
          ]
        },
        {
          "metadata": {
            "tags": null
          },
          "name": "stdout",
          "output_type": "stream",
          "text": [
            "[INFO] EPOCH: 73/100\n",
            "Train loss: 0.035676, Val loss: 0.1319\n"
          ]
        },
        {
          "metadata": {
            "tags": null
          },
          "name": "stderr",
          "output_type": "stream",
          "text": [
            "\r 74%|███████▍  | 74/100 [28:34<09:59, 23.04s/it]"
          ]
        },
        {
          "metadata": {
            "tags": null
          },
          "name": "stdout",
          "output_type": "stream",
          "text": [
            "[INFO] EPOCH: 74/100\n",
            "Train loss: 0.029957, Val loss: 0.1247\n"
          ]
        },
        {
          "metadata": {
            "tags": null
          },
          "name": "stderr",
          "output_type": "stream",
          "text": [
            "\r 75%|███████▌  | 75/100 [28:57<09:37, 23.09s/it]"
          ]
        },
        {
          "metadata": {
            "tags": null
          },
          "name": "stdout",
          "output_type": "stream",
          "text": [
            "[INFO] EPOCH: 75/100\n",
            "Train loss: 0.028596, Val loss: 0.1353\n"
          ]
        },
        {
          "metadata": {
            "tags": null
          },
          "name": "stderr",
          "output_type": "stream",
          "text": [
            "\r 76%|███████▌  | 76/100 [29:20<09:13, 23.07s/it]"
          ]
        },
        {
          "metadata": {
            "tags": null
          },
          "name": "stdout",
          "output_type": "stream",
          "text": [
            "[INFO] EPOCH: 76/100\n",
            "Train loss: 0.051382, Val loss: 0.1427\n"
          ]
        },
        {
          "metadata": {
            "tags": null
          },
          "name": "stderr",
          "output_type": "stream",
          "text": [
            "\r 77%|███████▋  | 77/100 [29:43<08:50, 23.06s/it]"
          ]
        },
        {
          "metadata": {
            "tags": null
          },
          "name": "stdout",
          "output_type": "stream",
          "text": [
            "[INFO] EPOCH: 77/100\n",
            "Train loss: 0.040060, Val loss: 0.1180\n"
          ]
        },
        {
          "metadata": {
            "tags": null
          },
          "name": "stderr",
          "output_type": "stream",
          "text": [
            "\r 78%|███████▊  | 78/100 [30:06<08:27, 23.09s/it]"
          ]
        },
        {
          "metadata": {
            "tags": null
          },
          "name": "stdout",
          "output_type": "stream",
          "text": [
            "[INFO] EPOCH: 78/100\n",
            "Train loss: 0.030080, Val loss: 0.1404\n"
          ]
        },
        {
          "metadata": {
            "tags": null
          },
          "name": "stderr",
          "output_type": "stream",
          "text": [
            "\r 79%|███████▉  | 79/100 [30:29<08:05, 23.11s/it]"
          ]
        },
        {
          "metadata": {
            "tags": null
          },
          "name": "stdout",
          "output_type": "stream",
          "text": [
            "[INFO] EPOCH: 79/100\n",
            "Train loss: 0.029634, Val loss: 0.1253\n"
          ]
        },
        {
          "output_type": "stream",
          "name": "stderr",
          "text": [
            "\r 80%|████████  | 80/100 [30:52<07:41, 23.08s/it]"
          ]
        },
        {
          "output_type": "stream",
          "name": "stdout",
          "text": [
            "[INFO] EPOCH: 80/100\n",
            "Train loss: 0.026655, Val loss: 0.1309\n"
          ]
        },
        {
          "output_type": "stream",
          "name": "stderr",
          "text": [
            "\r 81%|████████  | 81/100 [31:16<07:19, 23.14s/it]"
          ]
        },
        {
          "output_type": "stream",
          "name": "stdout",
          "text": [
            "[INFO] EPOCH: 81/100\n",
            "Train loss: 0.025677, Val loss: 0.1475\n"
          ]
        },
        {
          "output_type": "stream",
          "name": "stderr",
          "text": [
            "\r 82%|████████▏ | 82/100 [31:39<06:55, 23.10s/it]"
          ]
        },
        {
          "output_type": "stream",
          "name": "stdout",
          "text": [
            "[INFO] EPOCH: 82/100\n",
            "Train loss: 0.025631, Val loss: 0.1300\n"
          ]
        },
        {
          "output_type": "stream",
          "name": "stderr",
          "text": [
            "\r 83%|████████▎ | 83/100 [32:02<06:32, 23.08s/it]"
          ]
        },
        {
          "output_type": "stream",
          "name": "stdout",
          "text": [
            "[INFO] EPOCH: 83/100\n",
            "Train loss: 0.024700, Val loss: 0.1383\n"
          ]
        },
        {
          "output_type": "stream",
          "name": "stderr",
          "text": [
            "\r 84%|████████▍ | 84/100 [32:25<06:09, 23.07s/it]"
          ]
        },
        {
          "output_type": "stream",
          "name": "stdout",
          "text": [
            "[INFO] EPOCH: 84/100\n",
            "Train loss: 0.024057, Val loss: 0.1489\n"
          ]
        },
        {
          "output_type": "stream",
          "name": "stderr",
          "text": [
            "\r 85%|████████▌ | 85/100 [32:48<05:46, 23.07s/it]"
          ]
        },
        {
          "output_type": "stream",
          "name": "stdout",
          "text": [
            "[INFO] EPOCH: 85/100\n",
            "Train loss: 0.024274, Val loss: 0.1299\n"
          ]
        },
        {
          "output_type": "stream",
          "name": "stderr",
          "text": [
            "\r 86%|████████▌ | 86/100 [33:11<05:22, 23.05s/it]"
          ]
        },
        {
          "output_type": "stream",
          "name": "stdout",
          "text": [
            "[INFO] EPOCH: 86/100\n",
            "Train loss: 0.027323, Val loss: 0.1278\n"
          ]
        },
        {
          "output_type": "stream",
          "name": "stderr",
          "text": [
            "\r 87%|████████▋ | 87/100 [33:34<04:59, 23.06s/it]"
          ]
        },
        {
          "output_type": "stream",
          "name": "stdout",
          "text": [
            "[INFO] EPOCH: 87/100\n",
            "Train loss: 0.028567, Val loss: 0.1320\n"
          ]
        },
        {
          "output_type": "stream",
          "name": "stderr",
          "text": [
            "\r 88%|████████▊ | 88/100 [33:57<04:37, 23.12s/it]"
          ]
        },
        {
          "output_type": "stream",
          "name": "stdout",
          "text": [
            "[INFO] EPOCH: 88/100\n",
            "Train loss: 0.023517, Val loss: 0.1427\n"
          ]
        },
        {
          "output_type": "stream",
          "name": "stderr",
          "text": [
            "\r 89%|████████▉ | 89/100 [34:20<04:14, 23.09s/it]"
          ]
        },
        {
          "output_type": "stream",
          "name": "stdout",
          "text": [
            "[INFO] EPOCH: 89/100\n",
            "Train loss: 0.023168, Val loss: 0.1479\n"
          ]
        },
        {
          "output_type": "stream",
          "name": "stderr",
          "text": [
            "\r 90%|█████████ | 90/100 [34:43<03:50, 23.07s/it]"
          ]
        },
        {
          "output_type": "stream",
          "name": "stdout",
          "text": [
            "[INFO] EPOCH: 90/100\n",
            "Train loss: 0.022549, Val loss: 0.1410\n"
          ]
        },
        {
          "output_type": "stream",
          "name": "stderr",
          "text": [
            "\r 91%|█████████ | 91/100 [35:06<03:27, 23.09s/it]"
          ]
        },
        {
          "output_type": "stream",
          "name": "stdout",
          "text": [
            "[INFO] EPOCH: 91/100\n",
            "Train loss: 0.021729, Val loss: 0.1437\n"
          ]
        },
        {
          "output_type": "stream",
          "name": "stderr",
          "text": [
            "\r 92%|█████████▏| 92/100 [35:29<03:04, 23.09s/it]"
          ]
        },
        {
          "output_type": "stream",
          "name": "stdout",
          "text": [
            "[INFO] EPOCH: 92/100\n",
            "Train loss: 0.021739, Val loss: 0.1253\n"
          ]
        },
        {
          "output_type": "stream",
          "name": "stderr",
          "text": [
            "\r 93%|█████████▎| 93/100 [35:53<02:41, 23.12s/it]"
          ]
        },
        {
          "output_type": "stream",
          "name": "stdout",
          "text": [
            "[INFO] EPOCH: 93/100\n",
            "Train loss: 0.023700, Val loss: 0.1534\n"
          ]
        },
        {
          "output_type": "stream",
          "name": "stderr",
          "text": [
            "\r 94%|█████████▍| 94/100 [36:16<02:18, 23.06s/it]"
          ]
        },
        {
          "output_type": "stream",
          "name": "stdout",
          "text": [
            "[INFO] EPOCH: 94/100\n",
            "Train loss: 0.023247, Val loss: 0.1425\n"
          ]
        },
        {
          "output_type": "stream",
          "name": "stderr",
          "text": [
            "\r 95%|█████████▌| 95/100 [36:39<01:55, 23.10s/it]"
          ]
        },
        {
          "output_type": "stream",
          "name": "stdout",
          "text": [
            "[INFO] EPOCH: 95/100\n",
            "Train loss: 0.021450, Val loss: 0.1461\n"
          ]
        },
        {
          "output_type": "stream",
          "name": "stderr",
          "text": [
            "\r 96%|█████████▌| 96/100 [37:02<01:32, 23.12s/it]"
          ]
        },
        {
          "output_type": "stream",
          "name": "stdout",
          "text": [
            "[INFO] EPOCH: 96/100\n",
            "Train loss: 0.023228, Val loss: 0.1288\n"
          ]
        },
        {
          "output_type": "stream",
          "name": "stderr",
          "text": [
            "\r 97%|█████████▋| 97/100 [37:25<01:09, 23.11s/it]"
          ]
        },
        {
          "output_type": "stream",
          "name": "stdout",
          "text": [
            "[INFO] EPOCH: 97/100\n",
            "Train loss: 0.032411, Val loss: 0.1555\n"
          ]
        },
        {
          "output_type": "stream",
          "name": "stderr",
          "text": [
            "\r 98%|█████████▊| 98/100 [37:48<00:46, 23.09s/it]"
          ]
        },
        {
          "output_type": "stream",
          "name": "stdout",
          "text": [
            "[INFO] EPOCH: 98/100\n",
            "Train loss: 0.027817, Val loss: 0.1288\n"
          ]
        },
        {
          "output_type": "stream",
          "name": "stderr",
          "text": [
            "\r 99%|█████████▉| 99/100 [38:11<00:23, 23.10s/it]"
          ]
        },
        {
          "output_type": "stream",
          "name": "stdout",
          "text": [
            "[INFO] EPOCH: 99/100\n",
            "Train loss: 0.052171, Val loss: 0.1521\n"
          ]
        },
        {
          "output_type": "stream",
          "name": "stderr",
          "text": [
            "100%|██████████| 100/100 [38:34<00:00, 23.15s/it]"
          ]
        },
        {
          "output_type": "stream",
          "name": "stdout",
          "text": [
            "[INFO] EPOCH: 100/100\n",
            "Train loss: 0.068916, Val loss: 0.1886\n",
            "[INFO] total time taken to train the model: 2314.83s\n"
          ]
        },
        {
          "output_type": "stream",
          "name": "stderr",
          "text": [
            "\n"
          ]
        }
      ]
    },
    {
      "cell_type": "code",
      "source": [
        "H # show traning/val loss history"
      ],
      "metadata": {
        "colab": {
          "base_uri": "https://localhost:8080/"
        },
        "id": "CsJoOVn11rs9",
        "outputId": "c9a36460-f773-4771-cfd7-fec78711d8cc"
      },
      "execution_count": null,
      "outputs": [
        {
          "output_type": "execute_result",
          "data": {
            "text/plain": [
              "{'train_loss': [array(0.32217658, dtype=float32),\n",
              "  array(0.23101428, dtype=float32),\n",
              "  array(0.20201106, dtype=float32),\n",
              "  array(0.18201755, dtype=float32),\n",
              "  array(0.17243269, dtype=float32),\n",
              "  array(0.16302744, dtype=float32),\n",
              "  array(0.1521648, dtype=float32),\n",
              "  array(0.14416383, dtype=float32),\n",
              "  array(0.1398904, dtype=float32),\n",
              "  array(0.13583866, dtype=float32),\n",
              "  array(0.13129963, dtype=float32),\n",
              "  array(0.11980423, dtype=float32),\n",
              "  array(0.13040993, dtype=float32),\n",
              "  array(0.1221536, dtype=float32),\n",
              "  array(0.11476791, dtype=float32),\n",
              "  array(0.11885139, dtype=float32),\n",
              "  array(0.11474039, dtype=float32),\n",
              "  array(0.1082963, dtype=float32),\n",
              "  array(0.1030126, dtype=float32),\n",
              "  array(0.10088907, dtype=float32),\n",
              "  array(0.10718734, dtype=float32),\n",
              "  array(0.09414624, dtype=float32),\n",
              "  array(0.0950373, dtype=float32),\n",
              "  array(0.10423672, dtype=float32),\n",
              "  array(0.08777422, dtype=float32),\n",
              "  array(0.08591275, dtype=float32),\n",
              "  array(0.07904753, dtype=float32),\n",
              "  array(0.07522104, dtype=float32),\n",
              "  array(0.07610839, dtype=float32),\n",
              "  array(0.07408206, dtype=float32),\n",
              "  array(0.0735388, dtype=float32),\n",
              "  array(0.07278403, dtype=float32),\n",
              "  array(0.07093861, dtype=float32),\n",
              "  array(0.07873221, dtype=float32),\n",
              "  array(0.06790678, dtype=float32),\n",
              "  array(0.06384318, dtype=float32),\n",
              "  array(0.0665366, dtype=float32),\n",
              "  array(0.05963902, dtype=float32),\n",
              "  array(0.05602541, dtype=float32),\n",
              "  array(0.06332817, dtype=float32),\n",
              "  array(0.08595308, dtype=float32),\n",
              "  array(0.05989704, dtype=float32),\n",
              "  array(0.05475163, dtype=float32),\n",
              "  array(0.05314867, dtype=float32),\n",
              "  array(0.05118919, dtype=float32),\n",
              "  array(0.05295515, dtype=float32),\n",
              "  array(0.04938089, dtype=float32),\n",
              "  array(0.05480067, dtype=float32),\n",
              "  array(0.06730192, dtype=float32),\n",
              "  array(0.05398969, dtype=float32),\n",
              "  array(0.05022022, dtype=float32),\n",
              "  array(0.04676764, dtype=float32),\n",
              "  array(0.04671095, dtype=float32),\n",
              "  array(0.04924443, dtype=float32),\n",
              "  array(0.04518092, dtype=float32),\n",
              "  array(0.04313026, dtype=float32),\n",
              "  array(0.0421659, dtype=float32),\n",
              "  array(0.0407568, dtype=float32),\n",
              "  array(0.07331823, dtype=float32),\n",
              "  array(0.04526175, dtype=float32),\n",
              "  array(0.04435717, dtype=float32),\n",
              "  array(0.03821522, dtype=float32),\n",
              "  array(0.03628436, dtype=float32),\n",
              "  array(0.03652447, dtype=float32),\n",
              "  array(0.0369832, dtype=float32),\n",
              "  array(0.07532051, dtype=float32),\n",
              "  array(0.05136354, dtype=float32),\n",
              "  array(0.03711681, dtype=float32),\n",
              "  array(0.03474351, dtype=float32),\n",
              "  array(0.03468485, dtype=float32),\n",
              "  array(0.03535283, dtype=float32),\n",
              "  array(0.0400411, dtype=float32),\n",
              "  array(0.03567575, dtype=float32),\n",
              "  array(0.02995739, dtype=float32),\n",
              "  array(0.02859559, dtype=float32),\n",
              "  array(0.05138236, dtype=float32),\n",
              "  array(0.04006047, dtype=float32),\n",
              "  array(0.03007953, dtype=float32),\n",
              "  array(0.02963386, dtype=float32),\n",
              "  array(0.02665488, dtype=float32),\n",
              "  array(0.02567698, dtype=float32),\n",
              "  array(0.0256314, dtype=float32),\n",
              "  array(0.02469954, dtype=float32),\n",
              "  array(0.02405705, dtype=float32),\n",
              "  array(0.0242741, dtype=float32),\n",
              "  array(0.02732333, dtype=float32),\n",
              "  array(0.02856661, dtype=float32),\n",
              "  array(0.02351655, dtype=float32),\n",
              "  array(0.0231675, dtype=float32),\n",
              "  array(0.02254942, dtype=float32),\n",
              "  array(0.02172934, dtype=float32),\n",
              "  array(0.02173878, dtype=float32),\n",
              "  array(0.02369971, dtype=float32),\n",
              "  array(0.02324719, dtype=float32),\n",
              "  array(0.0214495, dtype=float32),\n",
              "  array(0.02322834, dtype=float32),\n",
              "  array(0.03241096, dtype=float32),\n",
              "  array(0.02781738, dtype=float32),\n",
              "  array(0.05217117, dtype=float32),\n",
              "  array(0.06891643, dtype=float32)],\n",
              " 'val_loss': [array(0.3131404, dtype=float32),\n",
              "  array(0.30720064, dtype=float32),\n",
              "  array(0.24826038, dtype=float32),\n",
              "  array(0.25953358, dtype=float32),\n",
              "  array(0.20917885, dtype=float32),\n",
              "  array(0.35826468, dtype=float32),\n",
              "  array(0.18382959, dtype=float32),\n",
              "  array(0.20299405, dtype=float32),\n",
              "  array(0.17075998, dtype=float32),\n",
              "  array(0.18696308, dtype=float32),\n",
              "  array(0.19229932, dtype=float32),\n",
              "  array(0.19048925, dtype=float32),\n",
              "  array(0.16110322, dtype=float32),\n",
              "  array(0.22199264, dtype=float32),\n",
              "  array(0.16842026, dtype=float32),\n",
              "  array(0.23103593, dtype=float32),\n",
              "  array(0.18053722, dtype=float32),\n",
              "  array(0.16690576, dtype=float32),\n",
              "  array(0.1661582, dtype=float32),\n",
              "  array(0.1913214, dtype=float32),\n",
              "  array(0.16459173, dtype=float32),\n",
              "  array(0.17116037, dtype=float32),\n",
              "  array(0.4394306, dtype=float32),\n",
              "  array(0.1460166, dtype=float32),\n",
              "  array(0.21801764, dtype=float32),\n",
              "  array(0.13289541, dtype=float32),\n",
              "  array(0.14274928, dtype=float32),\n",
              "  array(0.12228291, dtype=float32),\n",
              "  array(0.16590372, dtype=float32),\n",
              "  array(0.12610897, dtype=float32),\n",
              "  array(0.18226357, dtype=float32),\n",
              "  array(0.11748131, dtype=float32),\n",
              "  array(0.17379919, dtype=float32),\n",
              "  array(0.14244351, dtype=float32),\n",
              "  array(0.12366337, dtype=float32),\n",
              "  array(0.15994579, dtype=float32),\n",
              "  array(0.12833026, dtype=float32),\n",
              "  array(0.12377853, dtype=float32),\n",
              "  array(0.10779449, dtype=float32),\n",
              "  array(0.11603522, dtype=float32),\n",
              "  array(0.16866615, dtype=float32),\n",
              "  array(0.11093362, dtype=float32),\n",
              "  array(0.1147822, dtype=float32),\n",
              "  array(0.1306387, dtype=float32),\n",
              "  array(0.14541313, dtype=float32),\n",
              "  array(0.12382233, dtype=float32),\n",
              "  array(0.1233166, dtype=float32),\n",
              "  array(0.19594698, dtype=float32),\n",
              "  array(0.13946308, dtype=float32),\n",
              "  array(0.1717891, dtype=float32),\n",
              "  array(0.11641668, dtype=float32),\n",
              "  array(0.11674851, dtype=float32),\n",
              "  array(0.12841982, dtype=float32),\n",
              "  array(0.11543359, dtype=float32),\n",
              "  array(0.12162213, dtype=float32),\n",
              "  array(0.12428966, dtype=float32),\n",
              "  array(0.11122704, dtype=float32),\n",
              "  array(0.14002264, dtype=float32),\n",
              "  array(0.11363858, dtype=float32),\n",
              "  array(0.12711348, dtype=float32),\n",
              "  array(0.11954192, dtype=float32),\n",
              "  array(0.12534304, dtype=float32),\n",
              "  array(0.15076698, dtype=float32),\n",
              "  array(0.13640665, dtype=float32),\n",
              "  array(0.13915677, dtype=float32),\n",
              "  array(0.15144219, dtype=float32),\n",
              "  array(0.12153118, dtype=float32),\n",
              "  array(0.12238101, dtype=float32),\n",
              "  array(0.11944325, dtype=float32),\n",
              "  array(0.12894659, dtype=float32),\n",
              "  array(0.11747624, dtype=float32),\n",
              "  array(0.13242121, dtype=float32),\n",
              "  array(0.13194644, dtype=float32),\n",
              "  array(0.12473956, dtype=float32),\n",
              "  array(0.13527094, dtype=float32),\n",
              "  array(0.14273, dtype=float32),\n",
              "  array(0.11796993, dtype=float32),\n",
              "  array(0.14041997, dtype=float32),\n",
              "  array(0.12525277, dtype=float32),\n",
              "  array(0.13086842, dtype=float32),\n",
              "  array(0.14746271, dtype=float32),\n",
              "  array(0.12999421, dtype=float32),\n",
              "  array(0.13831417, dtype=float32),\n",
              "  array(0.14889356, dtype=float32),\n",
              "  array(0.1299107, dtype=float32),\n",
              "  array(0.1278187, dtype=float32),\n",
              "  array(0.13200828, dtype=float32),\n",
              "  array(0.1427177, dtype=float32),\n",
              "  array(0.1479395, dtype=float32),\n",
              "  array(0.14096633, dtype=float32),\n",
              "  array(0.14370285, dtype=float32),\n",
              "  array(0.1252763, dtype=float32),\n",
              "  array(0.15341887, dtype=float32),\n",
              "  array(0.14247574, dtype=float32),\n",
              "  array(0.14614545, dtype=float32),\n",
              "  array(0.12876868, dtype=float32),\n",
              "  array(0.15549162, dtype=float32),\n",
              "  array(0.12875181, dtype=float32),\n",
              "  array(0.15211156, dtype=float32),\n",
              "  array(0.18857728, dtype=float32)]}"
            ]
          },
          "metadata": {},
          "execution_count": 17
        }
      ]
    },
    {
      "cell_type": "markdown",
      "source": [
        "#### Training times\n",
        "\n",
        "*   5 epochs:  1068.83s\n",
        "*   10 epochs: 1926.91s\n",
        "*   50 epochs: 9461.90s = 2h 37m 41s  \n",
        "*   100 epochs: 20829 s  = 5 h 45 m\n",
        "*   100 epochs - Premium GPU: 2314.83s = 39 min\n",
        "\n",
        "The mentioned models are stored on my computer and on Google Drive.\n"
      ],
      "metadata": {
        "id": "ff8fgb3duj1M"
      }
    },
    {
      "cell_type": "markdown",
      "source": [
        "#### Check GPU memory"
      ],
      "metadata": {
        "id": "b_GT51rrcAaP"
      }
    },
    {
      "cell_type": "code",
      "source": [
        "gpu_info = !nvidia-smi\n",
        "gpu_info = '\\n'.join(gpu_info)\n",
        "if gpu_info.find('failed') >= 0:\n",
        "  print('Not connected to a GPU')\n",
        "else:\n",
        "  print(gpu_info)"
      ],
      "metadata": {
        "colab": {
          "base_uri": "https://localhost:8080/"
        },
        "id": "6tPSeUZAb_TF",
        "outputId": "1d2c0869-0bb2-4fe8-83cf-320b4c6dfdb9"
      },
      "execution_count": null,
      "outputs": [
        {
          "output_type": "stream",
          "name": "stdout",
          "text": [
            "Fri Mar 10 12:00:11 2023       \n",
            "+-----------------------------------------------------------------------------+\n",
            "| NVIDIA-SMI 525.85.12    Driver Version: 525.85.12    CUDA Version: 12.0     |\n",
            "|-------------------------------+----------------------+----------------------+\n",
            "| GPU  Name        Persistence-M| Bus-Id        Disp.A | Volatile Uncorr. ECC |\n",
            "| Fan  Temp  Perf  Pwr:Usage/Cap|         Memory-Usage | GPU-Util  Compute M. |\n",
            "|                               |                      |               MIG M. |\n",
            "|===============================+======================+======================|\n",
            "|   0  NVIDIA A100-SXM...  Off  | 00000000:00:04.0 Off |                    0 |\n",
            "| N/A   30C    P0    42W / 400W |      3MiB / 40960MiB |      0%      Default |\n",
            "|                               |                      |             Disabled |\n",
            "+-------------------------------+----------------------+----------------------+\n",
            "                                                                               \n",
            "+-----------------------------------------------------------------------------+\n",
            "| Processes:                                                                  |\n",
            "|  GPU   GI   CI        PID   Type   Process name                  GPU Memory |\n",
            "|        ID   ID                                                   Usage      |\n",
            "|=============================================================================|\n",
            "|  No running processes found                                                 |\n",
            "+-----------------------------------------------------------------------------+\n"
          ]
        }
      ]
    },
    {
      "cell_type": "markdown",
      "source": [
        "### Plot the training and validation loss"
      ],
      "metadata": {
        "id": "U6ChLXHuXZHA"
      }
    },
    {
      "cell_type": "code",
      "source": [
        "# plot the training loss\n",
        "\n",
        "print(MODEL_PATH)\n",
        "\n",
        "PLOT_PATH = \"/content/drive/MyDrive/plots/100-epochs\"\n",
        "\n",
        "plt.style.use(\"ggplot\")\n",
        "plt.figure()\n",
        "plt.plot(H[\"train_loss\"], label=\"train_loss\")\n",
        "plt.plot(H[\"val_loss\"], label=\"val_loss\")\n",
        "plt.title(\"Training Loss on Dataset\")\n",
        "plt.xlabel(\"Epoch #\")\n",
        "plt.ylabel(\"Loss\")\n",
        "plt.legend(loc=\"lower left\")\n",
        "plt.savefig(PLOT_PATH)\n",
        "# serialize the model to disk\n",
        "torch.save(model, MODEL_PATH) # saves the model"
      ],
      "metadata": {
        "colab": {
          "base_uri": "https://localhost:8080/",
          "height": 316
        },
        "id": "j04HfubrXYvX",
        "outputId": "5416f4a7-2647-40e9-ce25-cac7909dea50"
      },
      "execution_count": null,
      "outputs": [
        {
          "output_type": "stream",
          "name": "stdout",
          "text": [
            "/content/drive/MyDrive/models/unet-100-epochs.pth\n"
          ]
        },
        {
          "output_type": "display_data",
          "data": {
            "text/plain": [
              "<Figure size 432x288 with 1 Axes>"
            ],
            "image/png": "[encoded data removed]"
          },
          "metadata": {}
        }
      ]
    },
    {
      "cell_type": "markdown",
      "source": [
        "As you can see the validation loss is jumping up and down. I do not know why this happens."
      ],
      "metadata": {
        "id": "mQdUnwTMJtOH"
      }
    },
    {
      "cell_type": "markdown",
      "source": [
        "### Prediction part\n",
        "\n",
        "Here the trained model is loaded and use for prediction on test images."
      ],
      "metadata": {
        "id": "5Y6Fx2oaWr0q"
      }
    },
    {
      "cell_type": "code",
      "source": [
        "# Get current working directory\n",
        "cwd = os.getcwd()\n",
        "print(cwd)"
      ],
      "metadata": {
        "id": "qYh4flMu7O-m",
        "colab": {
          "base_uri": "https://localhost:8080/"
        },
        "outputId": "94909220-5b1f-43ad-b52f-d37bbaa270fd"
      },
      "execution_count": null,
      "outputs": [
        {
          "output_type": "stream",
          "name": "stdout",
          "text": [
            "/content\n"
          ]
        }
      ]
    },
    {
      "cell_type": "code",
      "source": [
        "# Load saved model for prediction\n",
        "model = torch.load(\"/content/drive/MyDrive/models/unet-100-epochs.pth\")\n",
        "print(\"model loaded for prediction\")"
      ],
      "metadata": {
        "id": "yJ0wjT8Nkmax",
        "colab": {
          "base_uri": "https://localhost:8080/"
        },
        "outputId": "795a0ac9-cbfe-40e0-c0cc-b5bfd088d76d"
      },
      "execution_count": null,
      "outputs": [
        {
          "output_type": "stream",
          "name": "stdout",
          "text": [
            "model loaded for prediction\n"
          ]
        }
      ]
    },
    {
      "cell_type": "code",
      "source": [
        "# STOP Google Colab runtime\n",
        "# !kill $(ps aux | awk '{print $2}')"
      ],
      "metadata": {
        "id": "GkyvXhIr9Z0n"
      },
      "execution_count": null,
      "outputs": []
    },
    {
      "cell_type": "markdown",
      "source": [
        "Run prediction on test images that are stored in a folder, works with both PNG and TIF. If you work with TIF then just change the file ending in the paths."
      ],
      "metadata": {
        "id": "Vza3gbetA4w9"
      }
    },
    {
      "cell_type": "code",
      "source": [
        "import random\n",
        "import gc\n",
        "from pathlib import Path\n",
        "import numpy as np\n",
        "from PIL import Image\n",
        "\n",
        "# PLOTTING PREDICTIONS AS SINGLE IMAGES\n",
        "\n",
        "# Output folder for the predictions\n",
        "output_folder = '/content/drive/MyDrive/p100e/'\n",
        "\n",
        "THRESHOLD = 0.5\n",
        "\n",
        "# test_image_names\n",
        "# test_image_names_subset --> ordered paths and names\n",
        "#test_images --> arrays\n",
        "\n",
        "# PLOT TEST IMAGES as RGB\n",
        "for n in range(len(test_images)):\n",
        "  gc.collect()\n",
        "  # Test image number\n",
        "  testImgName = str(Path(test_images[n]).stem) + '.png' # change for tif\n",
        "  #print('#', testImgName)\n",
        "\n",
        "   # Make predicton on a test image specified with counter n\n",
        "  test_img = test_images[n]\n",
        "  test_img_input = np.expand_dims(test_img, 0)\n",
        "  #print('#', test_img_input[0])\n",
        "\n",
        "  # PyTorch --> works\n",
        "  model.eval()\n",
        "  with torch.no_grad():\n",
        "    image = cv2.imread(test_img_input[0])\n",
        "    image = cv2.cvtColor(image, cv2.COLOR_BGR2RGB)\n",
        "    image = image.astype(\"float32\") / 255\n",
        "    \n",
        "    #print('SIZE: ', image.shape)\n",
        "\n",
        "    # make the channel axis to be the leading one, add batch dimension\n",
        "    image = np.transpose(image, (2, 0, 1))\n",
        "    # create a PyTorch tensor\n",
        "    image = np.expand_dims(image, 0)\n",
        "    # flash the tensor to the device\n",
        "    image  = torch.from_numpy(image).to(DEVICE)\n",
        "\n",
        "    # make the prediction\n",
        "    predMask = model(image).squeeze()\n",
        "    # pass result through sigmoid\n",
        "    predMask = torch.sigmoid(predMask)\n",
        "\n",
        "    # convert result to numpy array\n",
        "    predMask = predMask.cpu().numpy()\n",
        "\n",
        "    # filter out the weak predictions and convert them to integers\n",
        "    predMask = (predMask > THRESHOLD) * 255\n",
        "    predMask = predMask.astype(np.uint8)\n",
        "\n",
        "    # generate image from array\n",
        "    pIMG = Image.fromarray(predMask)\n",
        "    pIMG.save(str(output_folder + testImgName))\n",
        "\n",
        "    print('Prediction:', testImgName, 'saved to:', output_folder)"
      ],
      "metadata": {
        "colab": {
          "base_uri": "https://localhost:8080/"
        },
        "id": "bq7BlbdrcgPB",
        "outputId": "6860afd9-da51-4911-d975-5a3ed78e01e1"
      },
      "execution_count": null,
      "outputs": [
        {
          "output_type": "stream",
          "name": "stdout",
          "text": [
            "Prediction: 6078_637_91.png saved to: /content/drive/MyDrive/p100e/\n",
            "Prediction: 6078_638_24.png saved to: /content/drive/MyDrive/p100e/\n",
            "Prediction: 6078_638_99.png saved to: /content/drive/MyDrive/p100e/\n",
            "Prediction: 6084_553_93.png saved to: /content/drive/MyDrive/p100e/\n",
            "Prediction: 6104_603_16.png saved to: /content/drive/MyDrive/p100e/\n",
            "Prediction: 6112_694_95.png saved to: /content/drive/MyDrive/p100e/\n",
            "Prediction: 6112_695_51.png saved to: /content/drive/MyDrive/p100e/\n",
            "Prediction: 6121_864_12.png saved to: /content/drive/MyDrive/p100e/\n",
            "Prediction: 6121_865_87.png saved to: /content/drive/MyDrive/p100e/\n",
            "Prediction: 6122_520_65.png saved to: /content/drive/MyDrive/p100e/\n",
            "Prediction: 6123_531_70.png saved to: /content/drive/MyDrive/p100e/\n",
            "Prediction: 6123_532_79.png saved to: /content/drive/MyDrive/p100e/\n",
            "Prediction: 6124_676_45.png saved to: /content/drive/MyDrive/p100e/\n",
            "Prediction: 6124_676_85.png saved to: /content/drive/MyDrive/p100e/\n",
            "Prediction: 6124_677_55.png saved to: /content/drive/MyDrive/p100e/\n",
            "Prediction: 6141_649_54.png saved to: /content/drive/MyDrive/p100e/\n",
            "Prediction: 6147_481_0.png saved to: /content/drive/MyDrive/p100e/\n",
            "Prediction: 6149_548_9.png saved to: /content/drive/MyDrive/p100e/\n",
            "Prediction: 6150_466_10.png saved to: /content/drive/MyDrive/p100e/\n",
            "Prediction: 6155_544_73.png saved to: /content/drive/MyDrive/p100e/\n",
            "Prediction: 6165_680_74.png saved to: /content/drive/MyDrive/p100e/\n",
            "Prediction: 6170_651_64.png saved to: /content/drive/MyDrive/p100e/\n",
            "Prediction: 6171_726_50.png saved to: /content/drive/MyDrive/p100e/\n",
            "Prediction: 6171_726_83.png saved to: /content/drive/MyDrive/p100e/\n",
            "Prediction: 6171_727_31.png saved to: /content/drive/MyDrive/p100e/\n"
          ]
        }
      ]
    },
    {
      "cell_type": "markdown",
      "source": [
        "### PREDICTION PART WITHOUT REGULARIZATION\n",
        "\n",
        "Read the predictions from the folder where they were saved and compare the masks with the ground truth."
      ],
      "metadata": {
        "id": "DsgTEZlfA-pN"
      }
    },
    {
      "cell_type": "code",
      "source": [
        "import glob\n",
        "predictions = glob.glob(\"/content/drive/MyDrive/p100e/*.png\")\n",
        "predictions.sort()\n",
        "predictions"
      ],
      "metadata": {
        "colab": {
          "base_uri": "https://localhost:8080/"
        },
        "id": "zA9zJFXOr3iM",
        "outputId": "2432b93b-929d-4aa5-8404-2656f57f141e"
      },
      "execution_count": null,
      "outputs": [
        {
          "output_type": "execute_result",
          "data": {
            "text/plain": [
              "['/content/drive/MyDrive/p100e/6078_637_91.png',\n",
              " '/content/drive/MyDrive/p100e/6078_638_24.png',\n",
              " '/content/drive/MyDrive/p100e/6078_638_99.png',\n",
              " '/content/drive/MyDrive/p100e/6084_553_93.png',\n",
              " '/content/drive/MyDrive/p100e/6104_603_16.png',\n",
              " '/content/drive/MyDrive/p100e/6112_694_95.png',\n",
              " '/content/drive/MyDrive/p100e/6112_695_51.png',\n",
              " '/content/drive/MyDrive/p100e/6121_864_12.png',\n",
              " '/content/drive/MyDrive/p100e/6121_865_87.png',\n",
              " '/content/drive/MyDrive/p100e/6122_520_65.png',\n",
              " '/content/drive/MyDrive/p100e/6123_531_70.png',\n",
              " '/content/drive/MyDrive/p100e/6123_532_79.png',\n",
              " '/content/drive/MyDrive/p100e/6124_676_45.png',\n",
              " '/content/drive/MyDrive/p100e/6124_676_85.png',\n",
              " '/content/drive/MyDrive/p100e/6124_677_55.png',\n",
              " '/content/drive/MyDrive/p100e/6141_649_54.png',\n",
              " '/content/drive/MyDrive/p100e/6147_481_0.png',\n",
              " '/content/drive/MyDrive/p100e/6149_548_9.png',\n",
              " '/content/drive/MyDrive/p100e/6150_466_10.png',\n",
              " '/content/drive/MyDrive/p100e/6155_544_73.png',\n",
              " '/content/drive/MyDrive/p100e/6165_680_74.png',\n",
              " '/content/drive/MyDrive/p100e/6170_651_64.png',\n",
              " '/content/drive/MyDrive/p100e/6171_726_50.png',\n",
              " '/content/drive/MyDrive/p100e/6171_726_83.png',\n",
              " '/content/drive/MyDrive/p100e/6171_727_31.png']"
            ]
          },
          "metadata": {},
          "execution_count": 9
        }
      ]
    },
    {
      "cell_type": "markdown",
      "source": [
        "Code to plot the RGB, GT and the predicted image."
      ],
      "metadata": {
        "id": "7aKp75NJBdJ2"
      }
    },
    {
      "cell_type": "code",
      "source": [
        "# WRITE A CODE TO SAVE RGB, GROUND TRUTH AND SEGMENTATION HERE\n",
        "import matplotlib.pyplot as plt\n",
        "\n",
        "n = 2 # change this number depending on which image you want to test\n",
        "\n",
        "fig = plt.figure(figsize=(18,12))\n",
        "ax1 = fig.add_subplot(131)\n",
        "\n",
        "ax1.set_title('Testing image: ')\n",
        "image = cv2.imread(test_images[n])[:,:,::-1]\n",
        "ax1.imshow(image)\n",
        "ax1.set_axis_off()\n",
        "\n",
        "ax2 = fig.add_subplot(132)\n",
        "ax2.set_title('Ground truth: ')\n",
        "image = cv2.imread(test_masks[n])[:,:,::-1]\n",
        "ax2.imshow(image)\n",
        "ax2.set_axis_off()\n",
        "\n",
        "ax3 = fig.add_subplot(133)\n",
        "ax3.set_title('Prediction: ')\n",
        "image = cv2.imread(predictions[n])[:,:,::-1]\n",
        "ax3.imshow(image)\n",
        "ax3.set_axis_off()"
      ],
      "metadata": {
        "id": "k3ut0eO8j_Gy",
        "colab": {
          "base_uri": "https://localhost:8080/",
          "height": 235
        },
        "outputId": "05c22545-f9f7-41b6-eca2-78f4fb2b0d37"
      },
      "execution_count": 1,
      "outputs": [
        {
          "output_type": "error",
          "ename": "NameError",
          "evalue": "ignored",
          "traceback": [
            "\u001b[0;31m---------------------------------------------------------------------------\u001b[0m",
            "\u001b[0;31mNameError\u001b[0m                                 Traceback (most recent call last)",
            "\u001b[0;32m<ipython-input-1-a97342a54cb1>\u001b[0m in \u001b[0;36m<module>\u001b[0;34m\u001b[0m\n\u001b[1;32m      3\u001b[0m \u001b[0mn\u001b[0m \u001b[0;34m=\u001b[0m \u001b[0;36m2\u001b[0m \u001b[0;31m# change this number depending on which image you want to test\u001b[0m\u001b[0;34m\u001b[0m\u001b[0;34m\u001b[0m\u001b[0m\n\u001b[1;32m      4\u001b[0m \u001b[0;34m\u001b[0m\u001b[0m\n\u001b[0;32m----> 5\u001b[0;31m \u001b[0mfig\u001b[0m \u001b[0;34m=\u001b[0m \u001b[0mplt\u001b[0m\u001b[0;34m.\u001b[0m\u001b[0mfigure\u001b[0m\u001b[0;34m(\u001b[0m\u001b[0mfigsize\u001b[0m\u001b[0;34m=\u001b[0m\u001b[0;34m(\u001b[0m\u001b[0;36m18\u001b[0m\u001b[0;34m,\u001b[0m\u001b[0;36m12\u001b[0m\u001b[0;34m)\u001b[0m\u001b[0;34m)\u001b[0m\u001b[0;34m\u001b[0m\u001b[0;34m\u001b[0m\u001b[0m\n\u001b[0m\u001b[1;32m      6\u001b[0m \u001b[0max1\u001b[0m \u001b[0;34m=\u001b[0m \u001b[0mfig\u001b[0m\u001b[0;34m.\u001b[0m\u001b[0madd_subplot\u001b[0m\u001b[0;34m(\u001b[0m\u001b[0;36m131\u001b[0m\u001b[0;34m)\u001b[0m\u001b[0;34m\u001b[0m\u001b[0;34m\u001b[0m\u001b[0m\n\u001b[1;32m      7\u001b[0m \u001b[0;34m\u001b[0m\u001b[0m\n",
            "\u001b[0;31mNameError\u001b[0m: name 'plt' is not defined"
          ]
        }
      ]
    },
    {
      "cell_type": "markdown",
      "source": [
        "### BUILDING FOOTPRINT REGULARIZATION\n",
        "\n",
        "Used repo: https://github.com/zorzi-s/projectRegularization\n",
        "\n",
        "git clone the repo to the folder where your notebook is stored.\n",
        "\n",
        "The Python files for projectRegularization need to be saved in Colab.\n",
        "\n",
        "The pretrained weights need to be downloaded from the provided link:\n",
        "\n",
        "https://drive.google.com/drive/folders/1IPrDpvFq9ODW7UtPAJR_T-gGzxDat_uu"
      ],
      "metadata": {
        "id": "Tg_0qxbcjzfw"
      }
    },
    {
      "cell_type": "code",
      "source": [
        "# pretrained weights are saved in\n",
        "ptw = \"/content/drive/MyDrive/pretrained_weights/\""
      ],
      "metadata": {
        "id": "yp8uKrNUjyGn"
      },
      "execution_count": 2,
      "outputs": []
    },
    {
      "cell_type": "code",
      "source": [
        "# Go to variables.py --> and modify the file, provide the paths. See the example in this cell.\n",
        "# if you modify only below, it will not work.\n",
        "\n",
        "# CONFIGURE THE PATHS IN: variables.py NOT HERE!\n",
        "\n",
        "# TRAINING\n",
        "DATASET_RGB = \"/tmp/mapai_small/train/images/*.png\"\n",
        "DATASET_GTI = \"/tmp/mapai_small/train/masks/*.png\"\n",
        "DATASET_SEG = \"/tmp/mapai_small/train/masks/*.png\"\n",
        "\n",
        "DEBUG_DIR = \"/content/drive/MyDrive/debug/\"\n",
        "\n",
        "# INFERENCE\n",
        "INF_RGB = \"/tmp/mapai_small/test/images/*.png\" # test RGB images\n",
        "INF_SEG = \"/content/drive/MyDrive/p100e/*.png\" # test predictions\n",
        "INF_OUT = \"/content/drive/MyDrive/p100e_reg/\" # folder to store regularizations\n",
        "\n",
        "# PATHS TO THE GAN PRETRAINED WEIGHTS DOWNLOADED FROM GOOGLE DRIVE\n",
        "MODEL_ENCODER = \"/content/drive/MyDrive/pretrained_weights/E140000_e1\"\n",
        "MODEL_GENERATOR = \"/content/drive/MyDrive/pretrained_weights/E140000_net\"\n"
      ],
      "metadata": {
        "id": "FU4uZvXkC7ty"
      },
      "execution_count": null,
      "outputs": []
    },
    {
      "cell_type": "code",
      "source": [
        "# Run the prediction issuing the command\n",
        "\n",
        "# IF WORKING WITH TIF install imagecodecs\n",
        "#!pip install imagecodecs  # only for TIF\n",
        "\n",
        "# RUN REGULARIZATION\n",
        "!python /content/drive/MyDrive/ColabNotebooks/regularize.py"
      ],
      "metadata": {
        "colab": {
          "base_uri": "https://localhost:8080/"
        },
        "id": "Xn7tn0K8CV3p",
        "outputId": "7f4b50bd-a8a5-43b7-ad9a-d1edea35dc1e"
      },
      "execution_count": null,
      "outputs": [
        {
          "output_type": "stream",
          "name": "stdout",
          "text": [
            "/tmp/mapai_small/test/images/6078_637_91.png /content/drive/MyDrive/p100e/6078_637_91.png\n",
            "Regularization: 100% 21/21 [00:08<00:00,  2.62it/s]\n",
            "success...\n",
            "/tmp/mapai_small/test/images/6078_638_24.png /content/drive/MyDrive/p100e/6078_638_24.png\n",
            "Regularization: 100% 17/17 [00:00<00:00, 71.66it/s]\n",
            "success...\n",
            "/tmp/mapai_small/test/images/6078_638_99.png /content/drive/MyDrive/p100e/6078_638_99.png\n",
            "Regularization: 100% 5/5 [00:00<00:00, 29.80it/s]\n",
            "success...\n",
            "/tmp/mapai_small/test/images/6084_553_93.png /content/drive/MyDrive/p100e/6084_553_93.png\n",
            "Regularization: 0it [00:00, ?it/s]\n",
            "/content/drive/MyDrive/ColabNotebooks/regularize.py:256: UserWarning: /content/drive/MyDrive/p100e_reg/6084_553_93.png is a low contrast image\n",
            "  io.imsave(output_file, np.uint8(R*255))\n",
            "success...\n",
            "/tmp/mapai_small/test/images/6104_603_16.png /content/drive/MyDrive/p100e/6104_603_16.png\n",
            "Regularization: 100% 16/16 [00:00<00:00, 72.04it/s]\n",
            "success...\n",
            "/tmp/mapai_small/test/images/6112_694_95.png /content/drive/MyDrive/p100e/6112_694_95.png\n",
            "Regularization: 100% 19/19 [00:00<00:00, 57.69it/s]\n",
            "success...\n",
            "/tmp/mapai_small/test/images/6112_695_51.png /content/drive/MyDrive/p100e/6112_695_51.png\n",
            "Regularization: 100% 15/15 [00:00<00:00, 68.35it/s]\n",
            "success...\n",
            "/tmp/mapai_small/test/images/6121_864_12.png /content/drive/MyDrive/p100e/6121_864_12.png\n",
            "Regularization: 100% 25/25 [00:00<00:00, 73.52it/s]\n",
            "success...\n",
            "/tmp/mapai_small/test/images/6121_865_87.png /content/drive/MyDrive/p100e/6121_865_87.png\n",
            "Regularization: 100% 2/2 [00:00<00:00, 69.00it/s]\n",
            "/content/drive/MyDrive/ColabNotebooks/regularize.py:256: UserWarning: /content/drive/MyDrive/p100e_reg/6121_865_87.png is a low contrast image\n",
            "  io.imsave(output_file, np.uint8(R*255))\n",
            "success...\n",
            "/tmp/mapai_small/test/images/6122_520_65.png /content/drive/MyDrive/p100e/6122_520_65.png\n",
            "Regularization: 100% 26/26 [00:00<00:00, 67.38it/s]\n",
            "success...\n",
            "/tmp/mapai_small/test/images/6123_531_70.png /content/drive/MyDrive/p100e/6123_531_70.png\n",
            "Regularization: 100% 12/12 [00:00<00:00, 57.59it/s]\n",
            "success...\n",
            "/tmp/mapai_small/test/images/6123_532_79.png /content/drive/MyDrive/p100e/6123_532_79.png\n",
            "Regularization: 100% 11/11 [00:00<00:00, 63.38it/s]\n",
            "success...\n",
            "/tmp/mapai_small/test/images/6124_676_45.png /content/drive/MyDrive/p100e/6124_676_45.png\n",
            "Regularization: 100% 15/15 [00:00<00:00, 53.66it/s]\n",
            "success...\n",
            "/tmp/mapai_small/test/images/6124_676_85.png /content/drive/MyDrive/p100e/6124_676_85.png\n",
            "Regularization: 100% 5/5 [00:00<00:00, 57.89it/s]\n",
            "success...\n",
            "/tmp/mapai_small/test/images/6124_677_55.png /content/drive/MyDrive/p100e/6124_677_55.png\n",
            "Regularization: 0it [00:00, ?it/s]\n",
            "/content/drive/MyDrive/ColabNotebooks/regularize.py:256: UserWarning: /content/drive/MyDrive/p100e_reg/6124_677_55.png is a low contrast image\n",
            "  io.imsave(output_file, np.uint8(R*255))\n",
            "success...\n",
            "/tmp/mapai_small/test/images/6141_649_54.png /content/drive/MyDrive/p100e/6141_649_54.png\n",
            "Regularization: 100% 26/26 [00:00<00:00, 69.42it/s]\n",
            "success...\n",
            "/tmp/mapai_small/test/images/6147_481_0.png /content/drive/MyDrive/p100e/6147_481_0.png\n",
            "Regularization: 100% 11/11 [00:00<00:00, 69.74it/s]\n",
            "success...\n",
            "/tmp/mapai_small/test/images/6149_548_9.png /content/drive/MyDrive/p100e/6149_548_9.png\n",
            "Regularization: 100% 15/15 [00:00<00:00, 52.30it/s]\n",
            "success...\n",
            "/tmp/mapai_small/test/images/6150_466_10.png /content/drive/MyDrive/p100e/6150_466_10.png\n",
            "Regularization: 0it [00:00, ?it/s]\n",
            "/content/drive/MyDrive/ColabNotebooks/regularize.py:256: UserWarning: /content/drive/MyDrive/p100e_reg/6150_466_10.png is a low contrast image\n",
            "  io.imsave(output_file, np.uint8(R*255))\n",
            "success...\n",
            "/tmp/mapai_small/test/images/6155_544_73.png /content/drive/MyDrive/p100e/6155_544_73.png\n",
            "Regularization: 100% 18/18 [00:00<00:00, 53.77it/s]\n",
            "success...\n",
            "/tmp/mapai_small/test/images/6165_680_74.png /content/drive/MyDrive/p100e/6165_680_74.png\n",
            "Regularization: 100% 14/14 [00:00<00:00, 77.27it/s]\n",
            "success...\n",
            "/tmp/mapai_small/test/images/6170_651_64.png /content/drive/MyDrive/p100e/6170_651_64.png\n",
            "Regularization: 100% 10/10 [00:00<00:00, 59.92it/s]\n",
            "success...\n",
            "/tmp/mapai_small/test/images/6171_726_50.png /content/drive/MyDrive/p100e/6171_726_50.png\n",
            "Regularization: 100% 24/24 [00:00<00:00, 75.18it/s]\n",
            "success...\n",
            "/tmp/mapai_small/test/images/6171_726_83.png /content/drive/MyDrive/p100e/6171_726_83.png\n",
            "Regularization: 100% 29/29 [00:00<00:00, 75.43it/s]\n",
            "success...\n",
            "/tmp/mapai_small/test/images/6171_727_31.png /content/drive/MyDrive/p100e/6171_727_31.png\n",
            "Regularization: 100% 11/11 [00:00<00:00, 73.63it/s]\n",
            "success...\n"
          ]
        }
      ]
    },
    {
      "cell_type": "code",
      "source": [
        "# Read Regularizations to plot and compare results\n",
        "\n",
        "import glob\n",
        "regularizations = glob.glob(\"/content/drive/MyDrive/p100e-regularized/*.png\")\n",
        "regularizations.sort()\n",
        "regularizations"
      ],
      "metadata": {
        "colab": {
          "base_uri": "https://localhost:8080/"
        },
        "id": "89nW6Q7F6aga",
        "outputId": "976d62a2-76a7-4b52-a4bc-218f63d8a122"
      },
      "execution_count": null,
      "outputs": [
        {
          "output_type": "execute_result",
          "data": {
            "text/plain": [
              "[]"
            ]
          },
          "metadata": {},
          "execution_count": 36
        }
      ]
    },
    {
      "cell_type": "code",
      "source": [
        "print(len(test_images))"
      ],
      "metadata": {
        "id": "TDWUhUkJaYl8"
      },
      "execution_count": null,
      "outputs": []
    },
    {
      "cell_type": "markdown",
      "source": [
        "### COMPARING THE FINAL RESULTS\n",
        "\n",
        "Code to plot RGB, GT, PREDICTION and REGULARIZATION in a single plot for comparison."
      ],
      "metadata": {
        "id": "yRhIj5G2Bvgk"
      }
    },
    {
      "cell_type": "code",
      "source": [
        "### PLOT RGB, GT, PREDICTION and REGULARIZATION TOGETHER\n",
        "\n",
        "# change plot to be used in a for loop\n",
        "\n",
        "n = 1\n",
        "\n",
        "fig = plt.figure(figsize=(18,12))\n",
        "ax1 = fig.add_subplot(141)\n",
        "\n",
        "ax1.set_title('Testing image: ')\n",
        "image = cv2.imread(test_images[n])[:,:,::-1]\n",
        "ax1.imshow(image)\n",
        "ax1.set_axis_off()\n",
        "\n",
        "ax2 = fig.add_subplot(142)\n",
        "ax2.set_title('Ground truth: ')\n",
        "image = cv2.imread(test_masks[n])[:,:,::-1]\n",
        "ax2.imshow(image)\n",
        "ax2.set_axis_off()\n",
        "\n",
        "ax3 = fig.add_subplot(143)\n",
        "ax3.set_title('Prediction: ')\n",
        "image = cv2.imread(predictions[n])[:,:,::-1]\n",
        "ax3.imshow(image)\n",
        "ax3.set_axis_off()\n",
        "\n",
        "ax4 = fig.add_subplot(144)\n",
        "ax4.set_title('Regularization: ')\n",
        "image = cv2.imread(regularizations[n])[:,:,::-1]\n",
        "ax4.imshow(image)\n",
        "ax4.set_axis_off()\n",
        "\n",
        "fig.savefig(\"/content/drive/MyDrive/RESULTS_REGULARIZATION/compare1.png\")"
      ],
      "metadata": {
        "id": "qMPJbe5xFSdp",
        "colab": {
          "base_uri": "https://localhost:8080/",
          "height": 205
        },
        "outputId": "aaab26a3-4f8e-4be9-95f0-885af242c904"
      },
      "execution_count": null,
      "outputs": [
        {
          "output_type": "display_data",
          "data": {
            "text/plain": [
              "<Figure size 1296x864 with 4 Axes>"
            ],
            "image/png": "[encoded data removed]"
          },
          "metadata": {}
        }
      ]
    },
    {
      "cell_type": "markdown",
      "source": [
        "### VECTORIZING THE REGULARIZED BUILDING MASKS with GDAL\n",
        "\n",
        "GDAL: https://gdal.org/'\n",
        "\n",
        "GDAL: https://www.youtube.com/watch?v=q3DLdMj5zLA\n",
        "\n",
        "I do not know if it is possible to install GDAL on WINDOWS inside a conda environment.\n",
        "\n",
        "On Ubuntu you have to follow these steps:\n",
        "\n",
        "\n",
        "\n",
        "Specific process for installation: https://stackoverflow.com/questions/44005694/no-module-named-gdal\n",
        "\n",
        "- sudo apt-get update && sudo apt upgrade -y && sudo apt autoremove \n",
        "- sudo apt-get install -y cdo nco gdal-bin libgdal-dev-\n",
        "- python -m pip install --upgrade pip setuptools wheel\n",
        "- python -m pip install --upgrade gdal\n",
        "- conda install -c conda forge libgdal\n",
        "- conda install -c conda-forge libgdal\n",
        "- conda install -c conda-forge gdal\n",
        "- conda install tiledb=2.2\n",
        "- conda install poppler\n",
        "\n",
        "When you have this you can hopefully vectorize the detected masks quite easily."
      ],
      "metadata": {
        "id": "-A6zYTIDM3fY"
      }
    },
    {
      "cell_type": "code",
      "source": [
        "import osgeo\n",
        "from osgeo import gdal\n",
        "from osgeo import ogr\n",
        "print('GDAL version: ', osgeo.gdal.__version__)\n",
        "\n",
        "# in\n",
        "input = \"/content/drive/MyDrive/p100e_reg/6078_638_24.png\"\n",
        "\n",
        "# out\n",
        "output = \"/content/drive/MyDrive/p100e_reg/6078_638_24.shp\" # vector file ready to be used in QGIS / ArcGIS Pro\n",
        "\n",
        "# Open image with GDAl driver\n",
        "ds = gdal.Open(input)\n",
        "# Get the band\n",
        "band = ds.GetRasterBand(1)\n",
        "\n",
        "# Create the output shapefile\n",
        "driver = ogr.GetDriverByName(\"ESRI Shapefile\")\n",
        "out_ds = driver.CreateDataSource(output)\n",
        "out_layer = out_ds.CreateLayer(output, geom_type=ogr.wkbPolygon)\n",
        "\n",
        "# Add a field to the layer to store the pixel values\n",
        "field_defn = ogr.FieldDefn(\"Pix_Value\", ogr.OFTInteger)\n",
        "out_layer.CreateField(field_defn)\n",
        "\n",
        "# Polygonize the PNG file\n",
        "gdal.Polygonize(band, None, out_layer, 0, [], callback=None)\n",
        "\n",
        "# Close the input and output files\n",
        "out_ds = None\n",
        "ds = None"
      ],
      "metadata": {
        "id": "2DCVl0YraQQU"
      },
      "execution_count": null,
      "outputs": []
    },
    {
      "cell_type": "markdown",
      "source": [
        "![buildings-vectorized.png](data:image/png;base64,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)"
      ],
      "metadata": {
        "id": "it07xScUQW-3"
      }
    },
    {
      "cell_type": "markdown",
      "source": [
        "For the builing detection case we need to only keep the vectors with pixel value 255. Easiest solution is to use: Extract by attribute. The Python solution with GDAL can be found below."
      ],
      "metadata": {
        "id": "y1mE-0WgOTdh"
      }
    },
    {
      "cell_type": "code",
      "source": [
        "# ogr2ogr -where ID=\"1\" outfile.shp infile.shp\n",
        "\n",
        "# RUN from the command line inside Ubuntu\n",
        "!ogr2ogr -where Pix_Value=\"255\" 6078_638_24b.shp 6078_638_24.shp"
      ],
      "metadata": {
        "id": "qw43uc_SOVOK"
      },
      "execution_count": null,
      "outputs": []
    },
    {
      "cell_type": "markdown",
      "source": [
        "![buildings-only.png](data:image/png;base64,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)"
      ],
      "metadata": {
        "id": "1NPyLYPjQPfA"
      }
    },
    {
      "cell_type": "markdown",
      "source": [
        "### GEOREFERENCING THE VECTORIZED MASKS\n",
        "\n",
        "This is the last step for the practical applications of our methodology. I would need to obtain the geolocation files for the mapAI dataset, so I can georeference each mask from the test set."
      ],
      "metadata": {
        "id": "knPn6ILtQncH"
      }
    },
    {
      "cell_type": "code",
      "source": [],
      "metadata": {
        "id": "cdU2COl_QrfM"
      },
      "execution_count": null,
      "outputs": []
    }
  ]
}